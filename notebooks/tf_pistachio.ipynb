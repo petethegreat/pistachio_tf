{
 "cells": [
  {
   "cell_type": "markdown",
   "id": "e67e146c-7741-4e5d-b3e5-152d1fcce01c",
   "metadata": {},
   "source": [
    "# tensorflow pistachio\n"
   ]
  },
  {
   "cell_type": "code",
   "execution_count": 1,
   "id": "9645c12f-836e-43ef-a516-dd6134687a21",
   "metadata": {},
   "outputs": [
    {
     "name": "stderr",
     "output_type": "stream",
     "text": [
      "2024-04-03 18:00:46.580148: I tensorflow/core/platform/cpu_feature_guard.cc:210] This TensorFlow binary is optimized to use available CPU instructions in performance-critical operations.\n",
      "To enable the following instructions: AVX2 FMA, in other operations, rebuild TensorFlow with the appropriate compiler flags.\n"
     ]
    },
    {
     "name": "stdout",
     "output_type": "stream",
     "text": [
      "2.16.1\n"
     ]
    }
   ],
   "source": [
    "import tensorflow as tf\n",
    "print(tf.__version__)"
   ]
  },
  {
   "cell_type": "markdown",
   "id": "215c077c-56e8-4081-b5dc-34945bd1fa61",
   "metadata": {},
   "source": [
    "## arff to csv\n",
    "\n",
    "\n",
    "\n"
   ]
  },
  {
   "cell_type": "code",
   "execution_count": 2,
   "id": "e19e49d4-8185-4a92-b60f-7e94609fccca",
   "metadata": {},
   "outputs": [
    {
     "name": "stdout",
     "output_type": "stream",
     "text": [
      "./data/pistachio_16.csv exists\n"
     ]
    }
   ],
   "source": [
    "import pandas as pd \n",
    "from scipy.io import arff\n",
    "import os \n",
    "label_mapping = {'Kirmizi_Pistachio': 0, 'Siit_Pistachio': 1}\n",
    "\n",
    "def load_arff_file(input_arff: str) -> pd.DataFrame:\n",
    "    \"\"\"convert arff file to parquet\"\"\"\n",
    "    if not os.path.exists(input_arff):\n",
    "        raise ValueError(f\"input file '{input_arff}' does not exist\")\n",
    "    print(f'loading arff file {input_arff}')\n",
    "    data, meta = arff.loadarff(input_arff)\n",
    "    print(f\"arff metadata: {meta}\")\n",
    "    df = pd.DataFrame(data)\n",
    "    df['Class'] = df['Class'].astype(str).map(label_mapping)\n",
    "    \n",
    "    return df\n",
    "##################\n",
    "arff_filename = './data/Pistachio_16_Features_Dataset.arff'\n",
    "csv_filename = './data/pistachio_16.csv'\n",
    "if not os.path.exists(csv_filename):\n",
    "    df = load_arff_file(arff_filename)\n",
    "    df.head()\n",
    "    df.to_csv(csv_filename, index=False, header=True)\n",
    "    print(f'wrote file to {csv_filename}')\n",
    "else:\n",
    "    print(f'{csv_filename} exists')\n"
   ]
  },
  {
   "cell_type": "markdown",
   "id": "55e66103-32dc-4820-8089-71b0f3b4b789",
   "metadata": {},
   "source": [
    "## dataset\n"
   ]
  },
  {
   "cell_type": "code",
   "execution_count": 10,
   "id": "fd7845cd-40fe-4406-9874-ca68bc501561",
   "metadata": {},
   "outputs": [
    {
     "name": "stdout",
     "output_type": "stream",
     "text": [
      "./data/pistachio_train.csv and ./data/pistachio_test.csv exist\n"
     ]
    }
   ],
   "source": [
    "import numpy as np\n",
    "def split_csv_data(infilename: str, train_filename: str, test_filename:str, test_fraction: float):\n",
    "    df = pd.read_csv(infilename, header=0)\n",
    "    columns = df.columns\n",
    "    df['split_var'] = np.random.uniform(size=len(df))\n",
    "    train_df = df.loc[df.split_var <= test_fraction][columns]\n",
    "    test_df = df.loc[df.split_var > test_fraction][columns]\n",
    "    train_df.to_csv(train_filename, index=False, header=True)\n",
    "    test_df.to_csv(test_filename, index=False, header=True)\n",
    "    print(f'wrote {len(train_df)} records to {train_filename}')\n",
    "    print(f'wrote {len(test_df)} records to {test_filename}')\n",
    "    \n",
    "train_filename = './data/pistachio_train.csv'\n",
    "test_filename = './data/pistachio_test.csv'\n",
    "\n",
    "if not (os.path.exists(train_filename) and os.path.exists(test_filename)):\n",
    "    split_csv_data(csv_filename, train_filename, test_filename, 0.2)\n",
    "else:\n",
    "    print(f'{train_filename} and {test_filename} exist')\n",
    "\n",
    "\n",
    "\n",
    "\n"
   ]
  },
  {
   "cell_type": "code",
   "execution_count": 11,
   "id": "1902bad6-0b5a-4cbf-8163-159c21a7b4ba",
   "metadata": {},
   "outputs": [],
   "source": [
    "pistachio_train_batches = tf.data.experimental.make_csv_dataset(\n",
    "    train_filename, batch_size=4,\n",
    "    num_epochs=1,\n",
    "    label_name=\"Class\")\n",
    "pistachio_test_batches = tf.data.experimental.make_csv_dataset(\n",
    "    test_filename, batch_size=4,\n",
    "    num_epochs=1,\n",
    "    label_name=\"Class\")"
   ]
  },
  {
   "cell_type": "code",
   "execution_count": 20,
   "id": "f6a8ac90-eceb-44cb-a73f-8d55a76c66be",
   "metadata": {},
   "outputs": [
    {
     "name": "stdout",
     "output_type": "stream",
     "text": [
      "'label': [1 0 1 0]\n",
      "tf.Tensor(\n",
      "[[7.304000e+04 2.473311e+03 4.656840e+02 3.026644e+02 7.600000e-01\n",
      "  3.049548e+02 6.975000e-01 1.047200e+05 5.385000e-01 1.538600e+00\n",
      "  1.500000e-01 6.549000e-01 6.400000e-03 4.100000e-03 4.288000e-01\n",
      "  6.598000e-01]\n",
      " [6.404600e+04 1.431364e+03 4.099027e+02 2.070709e+02 8.630000e-01\n",
      "  2.855624e+02 9.182000e-01 6.975500e+04 6.562000e-01 1.979500e+00\n",
      "  3.928000e-01 6.967000e-01 6.400000e-03 3.200000e-03 4.853000e-01\n",
      "  9.607000e-01]\n",
      " [8.204300e+04 1.477527e+03 4.592950e+02 2.305736e+02 8.649000e-01\n",
      "  3.232033e+02 9.653000e-01 8.499200e+04 7.758000e-01 1.992000e+00\n",
      "  4.723000e-01 7.037000e-01 5.600000e-03 2.800000e-03 4.952000e-01\n",
      "  9.864000e-01]\n",
      " [9.334000e+04 1.290415e+03 5.118364e+02 2.356817e+02 8.877000e-01\n",
      "  3.447379e+02 9.710000e-01 9.612300e+04 7.512000e-01 2.171700e+00\n",
      "  7.044000e-01 6.735000e-01 5.500000e-03 2.500000e-03 4.536000e-01\n",
      "  9.852000e-01]], shape=(4, 16), dtype=float32)\n",
      "features:\n",
      "  'AREA'              : [73040. 64046. 82043. 93340.]\n",
      "  'PERIMETER'         : [2473.311 1431.364 1477.527 1290.415]\n",
      "  'MAJOR_AXIS'        : [465.684  409.9027 459.295  511.8364]\n",
      "  'MINOR_AXIS'        : [302.6644 207.0709 230.5736 235.6817]\n",
      "  'ECCENTRICITY'      : [0.76   0.863  0.8649 0.8877]\n",
      "  'EQDIASQ'           : [304.9548 285.5624 323.2033 344.7379]\n",
      "  'SOLIDITY'          : [0.6975 0.9182 0.9653 0.971 ]\n",
      "  'CONVEX_AREA'       : [104720.  69755.  84992.  96123.]\n",
      "  'EXTENT'            : [0.5385 0.6562 0.7758 0.7512]\n",
      "  'ASPECT_RATIO'      : [1.5386 1.9795 1.992  2.1717]\n",
      "  'ROUNDNESS'         : [0.15   0.3928 0.4723 0.7044]\n",
      "  'COMPACTNESS'       : [0.6549 0.6967 0.7037 0.6735]\n",
      "  'SHAPEFACTOR_1'     : [0.0064 0.0064 0.0056 0.0055]\n",
      "  'SHAPEFACTOR_2'     : [0.0041 0.0032 0.0028 0.0025]\n",
      "  'SHAPEFACTOR_3'     : [0.4288 0.4853 0.4952 0.4536]\n",
      "  'SHAPEFACTOR_4'     : [0.6598 0.9607 0.9864 0.9852]\n",
      "'label': [1 1 0 1]\n",
      "tf.Tensor(\n",
      "[[1.137940e+05 1.605097e+03 4.511695e+02 3.349978e+02 6.698000e-01\n",
      "  3.806403e+02 9.299000e-01 1.223680e+05 7.595000e-01 1.346800e+00\n",
      "  5.550000e-01 8.437000e-01 4.000000e-03 2.900000e-03 7.118000e-01\n",
      "  9.586000e-01]\n",
      " [9.263100e+04 1.260752e+03 4.680538e+02 2.556497e+02 8.377000e-01\n",
      "  3.434261e+02 9.791000e-01 9.460900e+04 7.977000e-01 1.830800e+00\n",
      "  7.323000e-01 7.337000e-01 5.100000e-03 2.800000e-03 5.384000e-01\n",
      "  9.857000e-01]\n",
      " [7.809400e+04 1.874495e+03 4.336876e+02 2.541110e+02 8.104000e-01\n",
      "  3.153290e+02 8.875000e-01 8.799200e+04 7.048000e-01 1.706700e+00\n",
      "  2.793000e-01 7.271000e-01 5.600000e-03 3.300000e-03 5.287000e-01\n",
      "  9.023000e-01]\n",
      " [9.504500e+04 1.292514e+03 4.761830e+02 2.700937e+02 8.236000e-01\n",
      "  3.478722e+02 9.194000e-01 1.033720e+05 6.982000e-01 1.763000e+00\n",
      "  7.149000e-01 7.305000e-01 5.000000e-03 2.800000e-03 5.337000e-01\n",
      "  9.409000e-01]], shape=(4, 16), dtype=float32)\n",
      "features:\n",
      "  'AREA'              : [113794.  92631.  78094.  95045.]\n",
      "  'PERIMETER'         : [1605.097 1260.752 1874.495 1292.514]\n",
      "  'MAJOR_AXIS'        : [451.1695 468.0538 433.6876 476.183 ]\n",
      "  'MINOR_AXIS'        : [334.9978 255.6497 254.111  270.0937]\n",
      "  'ECCENTRICITY'      : [0.6698 0.8377 0.8104 0.8236]\n",
      "  'EQDIASQ'           : [380.6403 343.4261 315.329  347.8722]\n",
      "  'SOLIDITY'          : [0.9299 0.9791 0.8875 0.9194]\n",
      "  'CONVEX_AREA'       : [122368.  94609.  87992. 103372.]\n",
      "  'EXTENT'            : [0.7595 0.7977 0.7048 0.6982]\n",
      "  'ASPECT_RATIO'      : [1.3468 1.8308 1.7067 1.763 ]\n",
      "  'ROUNDNESS'         : [0.555  0.7323 0.2793 0.7149]\n",
      "  'COMPACTNESS'       : [0.8437 0.7337 0.7271 0.7305]\n",
      "  'SHAPEFACTOR_1'     : [0.004  0.0051 0.0056 0.005 ]\n",
      "  'SHAPEFACTOR_2'     : [0.0029 0.0028 0.0033 0.0028]\n",
      "  'SHAPEFACTOR_3'     : [0.7118 0.5384 0.5287 0.5337]\n",
      "  'SHAPEFACTOR_4'     : [0.9586 0.9857 0.9023 0.9409]\n"
     ]
    },
    {
     "name": "stderr",
     "output_type": "stream",
     "text": [
      "2024-04-03 19:33:13.176990: W tensorflow/core/framework/local_rendezvous.cc:404] Local rendezvous is aborting with status: OUT_OF_RANGE: End of sequence\n"
     ]
    }
   ],
   "source": [
    "# batch = 0\n",
    "for feature_batch, label_batch in pistachio_train_batches.take(2):\n",
    "    # print(f'{batch}, {label_batch.shape}')\n",
    "    # cat_batch = tf.stack([feature_batch['AREA'],feature_batch['PERIMETER']],axis=1)\n",
    "    cat_batch = tf.stack([feature_batch[k] for k in feature_batch],axis=1)\n",
    "\n",
    "    # batch += 1\n",
    "    \n",
    "    print(\"'label': {}\".format(label_batch))\n",
    "    print(cat_batch)\n",
    "    print(\"features:\")\n",
    "    for key, value in feature_batch.items():\n",
    "        print(\"  {!r:20s}: {}\".format(key, value))"
   ]
  },
  {
   "cell_type": "markdown",
   "id": "48becd0f-e403-4e38-8de1-0cf00d1dea89",
   "metadata": {},
   "source": [
    "## Model"
   ]
  },
  {
   "cell_type": "code",
   "execution_count": 5,
   "id": "bd86bdb2-b2a3-47ae-b4af-24a4ce24404f",
   "metadata": {},
   "outputs": [],
   "source": [
    "from tensorflow.keras.layers import Dense, Flatten, Conv2D, BatchNormalization\n",
    "from tensorflow.keras import Model\n",
    "\n",
    "class PistachioModel(Model):\n",
    "  def __init__(self):\n",
    "    super().__init__()\n",
    "    self.bn = BatchNormalization()\n",
    "    self.d1 = Dense(10, activation='relu')\n",
    "    self.d2 = Dense(10)\n",
    "    self.lout = Dense(1, activation='sigmoid')\n",
    "\n",
    "  def call(self, x):\n",
    "    x = self.bn(x)\n",
    "    x = self.d1(x)\n",
    "    x = self.d2(x)\n",
    "    return self.lout(x)\n",
    "\n",
    "# Create an instance of the model\n",
    "model = PistachioModel()"
   ]
  },
  {
   "cell_type": "markdown",
   "id": "aaea6012-3ffa-4ca8-b617-9d0999e588a4",
   "metadata": {},
   "source": [
    "## Keras model.fit api"
   ]
  },
  {
   "cell_type": "code",
   "execution_count": 14,
   "id": "afb24047-86ea-4f70-939c-769ca8089d4e",
   "metadata": {},
   "outputs": [],
   "source": [
    "model.compile(optimizer='adam',\n",
    "              loss=tf.keras.losses.BinaryCrossentropy(from_logits=False),\n",
    "              metrics=['accuracy', 'auc'])\n",
    "\n",
    "\n",
    "\n",
    "\n",
    "\n"
   ]
  },
  {
   "cell_type": "code",
   "execution_count": 15,
   "id": "80e71dc3-4e8f-4895-946b-04af6afcea8e",
   "metadata": {},
   "outputs": [
    {
     "name": "stdout",
     "output_type": "stream",
     "text": [
      "Epoch 1/10\n"
     ]
    },
    {
     "name": "stderr",
     "output_type": "stream",
     "text": [
      "/usr/local/lib/python3.11/dist-packages/keras/src/layers/layer.py:1210: UserWarning: Layer 'pistachio_model' looks like it has unbuilt state, but Keras is not able to trace the layer `call()` in order to build it automatically. Possible causes:\n",
      "1. The `call()` method of your layer may be crashing. Try to `__call__()` the layer eagerly on some test input first to see if it works. E.g. `x = np.random.random((3, 4)); y = layer(x)`\n",
      "2. If the `call()` method is correct, then you may need to implement the `def build(self, input_shape)` method on your layer. It should create all variables used by the layer (e.g. by calling `layer.build()` on all its children layers).\n",
      "Exception encoutered: ''-1''\n",
      "  warnings.warn(\n",
      "/usr/local/lib/python3.11/dist-packages/keras/src/layers/layer.py:359: UserWarning: `build()` was called on layer 'pistachio_model', however the layer does not have a `build()` method implemented and it looks like it has unbuilt state. This will cause the layer to be marked as built, despite not being actually built, which may cause failures down the line. Make sure to implement a proper `build()` method.\n",
      "  warnings.warn(\n"
     ]
    },
    {
     "ename": "KeyError",
     "evalue": "\"Exception encountered when calling PistachioModel.call().\\n\\n\\x1b[1m-1\\x1b[0m\\n\\nArguments received by PistachioModel.call():\\n  • x=OrderedDict([('AREA', 'tf.Tensor(shape=(None,), dtype=float32)'), ('PERIMETER', 'tf.Tensor(shape=(None,), dtype=float32)'), ('MAJOR_AXIS', 'tf.Tensor(shape=(None,), dtype=float32)'), ('MINOR_AXIS', 'tf.Tensor(shape=(None,), dtype=float32)'), ('ECCENTRICITY', 'tf.Tensor(shape=(None,), dtype=float32)'), ('EQDIASQ', 'tf.Tensor(shape=(None,), dtype=float32)'), ('SOLIDITY', 'tf.Tensor(shape=(None,), dtype=float32)'), ('CONVEX_AREA', 'tf.Tensor(shape=(None,), dtype=float32)'), ('EXTENT', 'tf.Tensor(shape=(None,), dtype=float32)'), ('ASPECT_RATIO', 'tf.Tensor(shape=(None,), dtype=float32)'), ('ROUNDNESS', 'tf.Tensor(shape=(None,), dtype=float32)'), ('COMPACTNESS', 'tf.Tensor(shape=(None,), dtype=float32)'), ('SHAPEFACTOR_1', 'tf.Tensor(shape=(None,), dtype=float32)'), ('SHAPEFACTOR_2', 'tf.Tensor(shape=(None,), dtype=float32)'), ('SHAPEFACTOR_3', 'tf.Tensor(shape=(None,), dtype=float32)'), ('SHAPEFACTOR_4', 'tf.Tensor(shape=(None,), dtype=float32)')])\"",
     "output_type": "error",
     "traceback": [
      "\u001b[0;31m---------------------------------------------------------------------------\u001b[0m",
      "\u001b[0;31mKeyError\u001b[0m                                  Traceback (most recent call last)",
      "Cell \u001b[0;32mIn[15], line 1\u001b[0m\n\u001b[0;32m----> 1\u001b[0m \u001b[43mmodel\u001b[49m\u001b[38;5;241;43m.\u001b[39;49m\u001b[43mfit\u001b[49m\u001b[43m(\u001b[49m\u001b[43mpistachio_train_batches\u001b[49m\u001b[43m,\u001b[49m\u001b[43m \u001b[49m\u001b[43mepochs\u001b[49m\u001b[38;5;241;43m=\u001b[39;49m\u001b[38;5;241;43m10\u001b[39;49m\u001b[43m)\u001b[49m\n",
      "File \u001b[0;32m/usr/local/lib/python3.11/dist-packages/keras/src/utils/traceback_utils.py:123\u001b[0m, in \u001b[0;36mfilter_traceback.<locals>.error_handler\u001b[0;34m(*args, **kwargs)\u001b[0m\n\u001b[1;32m    120\u001b[0m     filtered_tb \u001b[38;5;241m=\u001b[39m _process_traceback_frames(e\u001b[38;5;241m.\u001b[39m__traceback__)\n\u001b[1;32m    121\u001b[0m     \u001b[38;5;66;03m# To get the full stack trace, call:\u001b[39;00m\n\u001b[1;32m    122\u001b[0m     \u001b[38;5;66;03m# `keras.config.disable_traceback_filtering()`\u001b[39;00m\n\u001b[0;32m--> 123\u001b[0m     \u001b[38;5;28;01mraise\u001b[39;00m e\u001b[38;5;241m.\u001b[39mwith_traceback(filtered_tb) \u001b[38;5;28;01mfrom\u001b[39;00m \u001b[38;5;28;01mNone\u001b[39;00m\n\u001b[1;32m    124\u001b[0m \u001b[38;5;28;01mfinally\u001b[39;00m:\n\u001b[1;32m    125\u001b[0m     \u001b[38;5;28;01mdel\u001b[39;00m filtered_tb\n",
      "Cell \u001b[0;32mIn[5], line 13\u001b[0m, in \u001b[0;36mPistachioModel.call\u001b[0;34m(self, x)\u001b[0m\n\u001b[1;32m     12\u001b[0m \u001b[38;5;28;01mdef\u001b[39;00m \u001b[38;5;21mcall\u001b[39m(\u001b[38;5;28mself\u001b[39m, x):\n\u001b[0;32m---> 13\u001b[0m   x \u001b[38;5;241m=\u001b[39m \u001b[38;5;28;43mself\u001b[39;49m\u001b[38;5;241;43m.\u001b[39;49m\u001b[43mbn\u001b[49m\u001b[43m(\u001b[49m\u001b[43mx\u001b[49m\u001b[43m)\u001b[49m\n\u001b[1;32m     14\u001b[0m   x \u001b[38;5;241m=\u001b[39m \u001b[38;5;28mself\u001b[39m\u001b[38;5;241m.\u001b[39md1(x)\n\u001b[1;32m     15\u001b[0m   x \u001b[38;5;241m=\u001b[39m \u001b[38;5;28mself\u001b[39m\u001b[38;5;241m.\u001b[39md2(x)\n",
      "\u001b[0;31mKeyError\u001b[0m: \"Exception encountered when calling PistachioModel.call().\\n\\n\\x1b[1m-1\\x1b[0m\\n\\nArguments received by PistachioModel.call():\\n  • x=OrderedDict([('AREA', 'tf.Tensor(shape=(None,), dtype=float32)'), ('PERIMETER', 'tf.Tensor(shape=(None,), dtype=float32)'), ('MAJOR_AXIS', 'tf.Tensor(shape=(None,), dtype=float32)'), ('MINOR_AXIS', 'tf.Tensor(shape=(None,), dtype=float32)'), ('ECCENTRICITY', 'tf.Tensor(shape=(None,), dtype=float32)'), ('EQDIASQ', 'tf.Tensor(shape=(None,), dtype=float32)'), ('SOLIDITY', 'tf.Tensor(shape=(None,), dtype=float32)'), ('CONVEX_AREA', 'tf.Tensor(shape=(None,), dtype=float32)'), ('EXTENT', 'tf.Tensor(shape=(None,), dtype=float32)'), ('ASPECT_RATIO', 'tf.Tensor(shape=(None,), dtype=float32)'), ('ROUNDNESS', 'tf.Tensor(shape=(None,), dtype=float32)'), ('COMPACTNESS', 'tf.Tensor(shape=(None,), dtype=float32)'), ('SHAPEFACTOR_1', 'tf.Tensor(shape=(None,), dtype=float32)'), ('SHAPEFACTOR_2', 'tf.Tensor(shape=(None,), dtype=float32)'), ('SHAPEFACTOR_3', 'tf.Tensor(shape=(None,), dtype=float32)'), ('SHAPEFACTOR_4', 'tf.Tensor(shape=(None,), dtype=float32)')])\""
     ]
    }
   ],
   "source": [
    "model.fit(pistachio_train_batches, epochs=10)"
   ]
  },
  {
   "cell_type": "code",
   "execution_count": null,
   "id": "af67db00-2cc9-4d2c-942e-cf6f422036dd",
   "metadata": {},
   "outputs": [],
   "source": [
    "## custom training loop stuff"
   ]
  },
  {
   "cell_type": "code",
   "execution_count": null,
   "id": "837ece09-1097-4802-a799-ac58f4b42f71",
   "metadata": {},
   "outputs": [],
   "source": [
    "@tf.function\n",
    "def train_step(images, labels):\n",
    "  with tf.GradientTape() as tape:\n",
    "    # training=True is only needed if there are layers with different\n",
    "    # behavior during training versus inference (e.g. Dropout).\n",
    "    predictions = model(images, training=True)\n",
    "    loss = loss_object(labels, predictions)\n",
    "  gradients = tape.gradient(loss, model.trainable_variables)\n",
    "  optimizer.apply_gradients(zip(gradients, model.trainable_variables))\n",
    "\n",
    "  train_loss(loss)\n",
    "  train_accuracy(labels, predictions)"
   ]
  },
  {
   "cell_type": "code",
   "execution_count": null,
   "id": "142a43b7-7b52-4502-b0e9-5e6415cb1b84",
   "metadata": {},
   "outputs": [],
   "source": [
    "@tf.function\n",
    "def test_step(images, labels):\n",
    "  # training=False is only needed if there are layers with different\n",
    "  # behavior during training versus inference (e.g. Dropout).\n",
    "  predictions = model(images, training=False)\n",
    "  t_loss = loss_object(labels, predictions)\n",
    "\n",
    "  test_loss(t_loss)\n",
    "  test_accuracy(labels, predictions)"
   ]
  },
  {
   "cell_type": "code",
   "execution_count": null,
   "id": "5c8b049d-3213-460c-ac02-d02a01454360",
   "metadata": {},
   "outputs": [],
   "source": [
    "\n",
    "for epoch in range(EPOCHS):\n",
    "  # Reset the metrics at the start of the next epoch\n",
    "  train_loss.reset_state()\n",
    "  train_accuracy.reset_state()\n",
    "  test_loss.reset_state()\n",
    "  test_accuracy.reset_state()\n",
    "\n",
    "  for images, labels in train_ds:\n",
    "    train_step(images, labels)\n",
    "\n",
    "  for test_images, test_labels in test_ds:\n",
    "    test_step(test_images, test_labels)\n",
    "\n",
    "  print(\n",
    "    f'Epoch {epoch + 1}, '\n",
    "    f'Loss: {train_loss.result():0.2f}, '\n",
    "    f'Accuracy: {train_accuracy.result() * 100:0.2f}, '\n",
    "    f'Test Loss: {test_loss.result():0.2f}, '\n",
    "    f'Test Accuracy: {test_accuracy.result() * 100:0.2f}'\n",
    "  )"
   ]
  }
 ],
 "metadata": {
  "kernelspec": {
   "display_name": "Python 3 (ipykernel)",
   "language": "python",
   "name": "python3"
  },
  "language_info": {
   "codemirror_mode": {
    "name": "ipython",
    "version": 3
   },
   "file_extension": ".py",
   "mimetype": "text/x-python",
   "name": "python",
   "nbconvert_exporter": "python",
   "pygments_lexer": "ipython3",
   "version": "3.11.0rc1"
  }
 },
 "nbformat": 4,
 "nbformat_minor": 5
}
