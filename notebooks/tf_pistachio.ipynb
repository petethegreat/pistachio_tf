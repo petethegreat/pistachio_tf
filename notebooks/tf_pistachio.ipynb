{
 "cells": [
  {
   "cell_type": "markdown",
   "id": "e67e146c-7741-4e5d-b3e5-152d1fcce01c",
   "metadata": {},
   "source": [
    "# tensorflow pistachio\n"
   ]
  },
  {
   "cell_type": "code",
   "execution_count": 1,
   "id": "9645c12f-836e-43ef-a516-dd6134687a21",
   "metadata": {},
   "outputs": [
    {
     "name": "stderr",
     "output_type": "stream",
     "text": [
      "2024-04-10 17:42:04.811603: I tensorflow/core/platform/cpu_feature_guard.cc:210] This TensorFlow binary is optimized to use available CPU instructions in performance-critical operations.\n",
      "To enable the following instructions: AVX2 FMA, in other operations, rebuild TensorFlow with the appropriate compiler flags.\n"
     ]
    },
    {
     "name": "stdout",
     "output_type": "stream",
     "text": [
      "2.16.1\n"
     ]
    }
   ],
   "source": [
    "import tensorflow as tf\n",
    "print(tf.__version__)"
   ]
  },
  {
   "cell_type": "markdown",
   "id": "215c077c-56e8-4081-b5dc-34945bd1fa61",
   "metadata": {},
   "source": [
    "## arff to csv\n",
    "\n",
    "\n",
    "\n"
   ]
  },
  {
   "cell_type": "code",
   "execution_count": 2,
   "id": "e19e49d4-8185-4a92-b60f-7e94609fccca",
   "metadata": {},
   "outputs": [
    {
     "name": "stdout",
     "output_type": "stream",
     "text": [
      "./data/pistachio_16.csv exists\n"
     ]
    }
   ],
   "source": [
    "import pandas as pd \n",
    "from scipy.io import arff\n",
    "import os \n",
    "label_mapping = {'Kirmizi_Pistachio': 0, 'Siit_Pistachio': 1}\n",
    "\n",
    "def load_arff_file(input_arff: str) -> pd.DataFrame:\n",
    "    \"\"\"convert arff file to parquet\"\"\"\n",
    "    if not os.path.exists(input_arff):\n",
    "        raise ValueError(f\"input file '{input_arff}' does not exist\")\n",
    "    print(f'loading arff file {input_arff}')\n",
    "    data, meta = arff.loadarff(input_arff)\n",
    "    print(f\"arff metadata: {meta}\")\n",
    "    df = pd.DataFrame(data)\n",
    "    df['Class'] = df['Class'].astype(str).map(label_mapping)\n",
    "    \n",
    "    return df\n",
    "##################\n",
    "arff_filename = './data/Pistachio_16_Features_Dataset.arff'\n",
    "csv_filename = './data/pistachio_16.csv'\n",
    "if not os.path.exists(csv_filename):\n",
    "    df = load_arff_file(arff_filename)\n",
    "    df.head()\n",
    "    df.to_csv(csv_filename, index=False, header=True)\n",
    "    print(f'wrote file to {csv_filename}')\n",
    "else:\n",
    "    print(f'{csv_filename} exists')\n"
   ]
  },
  {
   "cell_type": "markdown",
   "id": "55e66103-32dc-4820-8089-71b0f3b4b789",
   "metadata": {},
   "source": [
    "## dataset\n"
   ]
  },
  {
   "cell_type": "code",
   "execution_count": 3,
   "id": "fd7845cd-40fe-4406-9874-ca68bc501561",
   "metadata": {},
   "outputs": [
    {
     "name": "stdout",
     "output_type": "stream",
     "text": [
      "./data/pistachio_train.csv and ./data/pistachio_test.csv exist\n"
     ]
    }
   ],
   "source": [
    "import numpy as np\n",
    "def split_csv_data(infilename: str, train_filename: str, test_filename:str, test_fraction: float):\n",
    "    df = pd.read_csv(infilename, header=0)\n",
    "    columns = df.columns\n",
    "    df['split_var'] = np.random.uniform(size=len(df))\n",
    "    train_df = df.loc[df.split_var <= test_fraction][columns]\n",
    "    test_df = df.loc[df.split_var > test_fraction][columns]\n",
    "    train_df.to_csv(train_filename, index=False, header=True)\n",
    "    test_df.to_csv(test_filename, index=False, header=True)\n",
    "    print(f'wrote {len(train_df)} records to {train_filename}')\n",
    "    print(f'wrote {len(test_df)} records to {test_filename}')\n",
    "    \n",
    "train_filename = './data/pistachio_train.csv'\n",
    "test_filename = './data/pistachio_test.csv'\n",
    "\n",
    "if not (os.path.exists(train_filename) and os.path.exists(test_filename)):\n",
    "    split_csv_data(csv_filename, train_filename, test_filename, 0.2)\n",
    "else:\n",
    "    print(f'{train_filename} and {test_filename} exist')\n",
    "\n",
    "\n",
    "\n",
    "\n"
   ]
  },
  {
   "cell_type": "code",
   "execution_count": 4,
   "id": "1902bad6-0b5a-4cbf-8163-159c21a7b4ba",
   "metadata": {},
   "outputs": [],
   "source": [
    "def map_func(features, labels):\n",
    "    return tf.stack([features[k] for k in features]), labels\n",
    "\n",
    "# use dataset.map to concatenate feature dictionary into tensor\n",
    "pistachio_train_batches = tf.data.experimental.make_csv_dataset(\n",
    "    train_filename, batch_size=4,\n",
    "    num_epochs=1,\n",
    "    label_name=\"Class\").map(map_func)\n",
    "pistachio_test_batches = tf.data.experimental.make_csv_dataset(\n",
    "    test_filename, batch_size=4,\n",
    "    num_epochs=1,\n",
    "    label_name=\"Class\").map(map_func)"
   ]
  },
  {
   "cell_type": "code",
   "execution_count": 5,
   "id": "f6a8ac90-eceb-44cb-a73f-8d55a76c66be",
   "metadata": {},
   "outputs": [
    {
     "name": "stdout",
     "output_type": "stream",
     "text": [
      "'label': [0 1 0 0]\n",
      "tf.Tensor(\n",
      "[[7.268200e+04 1.228455e+03 4.833133e+02 1.946325e+02 9.153000e-01\n",
      "  3.042065e+02 9.681000e-01 7.507500e+04 7.105000e-01 2.483200e+00\n",
      "  6.052000e-01 6.294000e-01 6.600000e-03 2.700000e-03 3.962000e-01\n",
      "  9.838000e-01]\n",
      " [9.512000e+04 1.239937e+03 4.801718e+02 2.537507e+02 8.490000e-01\n",
      "  3.480094e+02 9.779000e-01 9.726700e+04 7.501000e-01 1.892300e+00\n",
      "  7.775000e-01 7.248000e-01 5.000000e-03 2.700000e-03 5.253000e-01\n",
      "  9.940000e-01]\n",
      " [7.998200e+04 1.218160e+03 4.685190e+02 2.203987e+02 8.824000e-01\n",
      "  3.191179e+02 9.689000e-01 8.255200e+04 6.927000e-01 2.125800e+00\n",
      "  6.773000e-01 6.811000e-01 5.900000e-03 2.800000e-03 4.639000e-01\n",
      "  9.862000e-01]\n",
      " [7.246000e+04 1.187195e+03 4.437118e+02 2.151141e+02 8.746000e-01\n",
      "  3.037416e+02 9.519000e-01 7.612400e+04 7.555000e-01 2.062700e+00\n",
      "  6.460000e-01 6.845000e-01 6.100000e-03 3.000000e-03 4.686000e-01\n",
      "  9.666000e-01]], shape=(4, 16), dtype=float32)\n",
      "features:\n",
      "  'AREA'              : [72682. 95120. 79982. 72460.]\n",
      "  'PERIMETER'         : [1228.455 1239.937 1218.16  1187.195]\n",
      "  'MAJOR_AXIS'        : [483.3133 480.1718 468.519  443.7118]\n",
      "  'MINOR_AXIS'        : [194.6325 253.7507 220.3987 215.1141]\n",
      "  'ECCENTRICITY'      : [0.9153 0.849  0.8824 0.8746]\n",
      "  'EQDIASQ'           : [304.2065 348.0094 319.1179 303.7416]\n",
      "  'SOLIDITY'          : [0.9681 0.9779 0.9689 0.9519]\n",
      "  'CONVEX_AREA'       : [75075. 97267. 82552. 76124.]\n",
      "  'EXTENT'            : [0.7105 0.7501 0.6927 0.7555]\n",
      "  'ASPECT_RATIO'      : [2.4832 1.8923 2.1258 2.0627]\n",
      "  'ROUNDNESS'         : [0.6052 0.7775 0.6773 0.646 ]\n",
      "  'COMPACTNESS'       : [0.6294 0.7248 0.6811 0.6845]\n",
      "  'SHAPEFACTOR_1'     : [0.0066 0.005  0.0059 0.0061]\n",
      "  'SHAPEFACTOR_2'     : [0.0027 0.0027 0.0028 0.003 ]\n",
      "  'SHAPEFACTOR_3'     : [0.3962 0.5253 0.4639 0.4686]\n",
      "  'SHAPEFACTOR_4'     : [0.9838 0.994  0.9862 0.9666]\n",
      "'label': [1 0 0 0]\n",
      "tf.Tensor(\n",
      "[[1.066710e+05 2.690425e+03 4.888751e+02 3.002508e+02 7.892000e-01\n",
      "  3.685346e+02 9.180000e-01 1.161990e+05 7.273000e-01 1.628200e+00\n",
      "  1.852000e-01 7.538000e-01 4.600000e-03 2.800000e-03 5.683000e-01\n",
      "  9.253000e-01]\n",
      " [7.778900e+04 1.362205e+03 4.651488e+02 2.174065e+02 8.841000e-01\n",
      "  3.147126e+02 9.473000e-01 8.211800e+04 7.536000e-01 2.139500e+00\n",
      "  5.268000e-01 6.766000e-01 6.000000e-03 2.800000e-03 4.578000e-01\n",
      "  9.794000e-01]\n",
      " [8.379300e+04 1.322916e+03 4.567764e+02 2.379171e+02 8.536000e-01\n",
      "  3.266321e+02 9.545000e-01 8.778900e+04 7.593000e-01 1.919900e+00\n",
      "  6.017000e-01 7.151000e-01 5.500000e-03 2.800000e-03 5.113000e-01\n",
      "  9.817000e-01]\n",
      " [9.498200e+04 1.258725e+03 5.055064e+02 2.429167e+02 8.770000e-01\n",
      "  3.477569e+02 9.766000e-01 9.725400e+04 7.928000e-01 2.081000e+00\n",
      "  7.533000e-01 6.879000e-01 5.300000e-03 2.600000e-03 4.733000e-01\n",
      "  9.848000e-01]], shape=(4, 16), dtype=float32)\n",
      "features:\n",
      "  'AREA'              : [106671.  77789.  83793.  94982.]\n",
      "  'PERIMETER'         : [2690.425 1362.205 1322.916 1258.725]\n",
      "  'MAJOR_AXIS'        : [488.8751 465.1488 456.7764 505.5064]\n",
      "  'MINOR_AXIS'        : [300.2508 217.4065 237.9171 242.9167]\n",
      "  'ECCENTRICITY'      : [0.7892 0.8841 0.8536 0.877 ]\n",
      "  'EQDIASQ'           : [368.5346 314.7126 326.6321 347.7569]\n",
      "  'SOLIDITY'          : [0.918  0.9473 0.9545 0.9766]\n",
      "  'CONVEX_AREA'       : [116199.  82118.  87789.  97254.]\n",
      "  'EXTENT'            : [0.7273 0.7536 0.7593 0.7928]\n",
      "  'ASPECT_RATIO'      : [1.6282 2.1395 1.9199 2.081 ]\n",
      "  'ROUNDNESS'         : [0.1852 0.5268 0.6017 0.7533]\n",
      "  'COMPACTNESS'       : [0.7538 0.6766 0.7151 0.6879]\n",
      "  'SHAPEFACTOR_1'     : [0.0046 0.006  0.0055 0.0053]\n",
      "  'SHAPEFACTOR_2'     : [0.0028 0.0028 0.0028 0.0026]\n",
      "  'SHAPEFACTOR_3'     : [0.5683 0.4578 0.5113 0.4733]\n",
      "  'SHAPEFACTOR_4'     : [0.9253 0.9794 0.9817 0.9848]\n"
     ]
    },
    {
     "name": "stderr",
     "output_type": "stream",
     "text": [
      "2024-04-10 17:42:20.374779: W tensorflow/core/framework/local_rendezvous.cc:404] Local rendezvous is aborting with status: OUT_OF_RANGE: End of sequence\n"
     ]
    }
   ],
   "source": [
    "# batch = 0\n",
    "# for feature_batch, label_batch in pistachio_train_batches.take(2):\n",
    "#     # print(f'{batch}, {label_batch.shape}')\n",
    "#     # cat_batch = tf.stack([feature_batch['AREA'],feature_batch['PERIMETER']],axis=1)\n",
    "#     # cat_batch = tf.stack([feature_batch[k] for k in feature_batch],axis=1)\n",
    "\n",
    "#     # batch += 1\n",
    "    \n",
    "#     print(\"'label': {}\".format(label_batch))\n",
    "#     print(cat_batch)\n",
    "#     print(\"features:\")\n",
    "#     for key, value in feature_batch.items():\n",
    "#         print(\"  {!r:20s}: {}\".format(key, value))"
   ]
  },
  {
   "cell_type": "markdown",
   "id": "48becd0f-e403-4e38-8de1-0cf00d1dea89",
   "metadata": {},
   "source": [
    "## Model"
   ]
  },
  {
   "cell_type": "code",
   "execution_count": 6,
   "id": "bd86bdb2-b2a3-47ae-b4af-24a4ce24404f",
   "metadata": {},
   "outputs": [],
   "source": [
    "from tensorflow.keras.layers import Dense, Flatten, Conv2D, BatchNormalization\n",
    "from tensorflow.keras import Model\n",
    "\n",
    "class PistachioModel(Model):\n",
    "  def __init__(self):\n",
    "    super().__init__()\n",
    "    self.bn = BatchNormalization()\n",
    "    self.d1 = Dense(10, activation='relu')\n",
    "    self.d2 = Dense(10)\n",
    "    self.lout = Dense(1, activation='sigmoid')\n",
    "\n",
    "  def call(self, x):\n",
    "    x = self.bn(x)\n",
    "    x = self.d1(x)\n",
    "    x = self.d2(x)\n",
    "    return self.lout(x)\n",
    "\n",
    "# Create an instance of the model\n",
    "model = PistachioModel()"
   ]
  },
  {
   "cell_type": "markdown",
   "id": "aaea6012-3ffa-4ca8-b617-9d0999e588a4",
   "metadata": {},
   "source": [
    "## Keras model.fit api"
   ]
  },
  {
   "cell_type": "code",
   "execution_count": 7,
   "id": "afb24047-86ea-4f70-939c-769ca8089d4e",
   "metadata": {},
   "outputs": [],
   "source": [
    "model.compile(optimizer='adam',\n",
    "              loss=tf.keras.losses.BinaryCrossentropy(from_logits=False),\n",
    "              metrics=['accuracy', 'auc'])\n",
    "\n",
    "\n",
    "\n",
    "\n",
    "\n"
   ]
  },
  {
   "cell_type": "code",
   "execution_count": 8,
   "id": "80e71dc3-4e8f-4895-946b-04af6afcea8e",
   "metadata": {},
   "outputs": [
    {
     "name": "stdout",
     "output_type": "stream",
     "text": [
      "Epoch 1/10\n"
     ]
    },
    {
     "name": "stderr",
     "output_type": "stream",
     "text": [
      "/usr/local/lib/python3.11/dist-packages/keras/src/layers/layer.py:1210: UserWarning: Layer 'pistachio_model' looks like it has unbuilt state, but Keras is not able to trace the layer `call()` in order to build it automatically. Possible causes:\n",
      "1. The `call()` method of your layer may be crashing. Try to `__call__()` the layer eagerly on some test input first to see if it works. E.g. `x = np.random.random((3, 4)); y = layer(x)`\n",
      "2. If the `call()` method is correct, then you may need to implement the `def build(self, input_shape)` method on your layer. It should create all variables used by the layer (e.g. by calling `layer.build()` on all its children layers).\n",
      "Exception encoutered: ''-1''\n",
      "  warnings.warn(\n",
      "/usr/local/lib/python3.11/dist-packages/keras/src/layers/layer.py:359: UserWarning: `build()` was called on layer 'pistachio_model', however the layer does not have a `build()` method implemented and it looks like it has unbuilt state. This will cause the layer to be marked as built, despite not being actually built, which may cause failures down the line. Make sure to implement a proper `build()` method.\n",
      "  warnings.warn(\n"
     ]
    },
    {
     "ename": "KeyError",
     "evalue": "\"Exception encountered when calling PistachioModel.call().\\n\\n\\x1b[1m-1\\x1b[0m\\n\\nArguments received by PistachioModel.call():\\n  • x=OrderedDict([('AREA', 'tf.Tensor(shape=(None,), dtype=float32)'), ('PERIMETER', 'tf.Tensor(shape=(None,), dtype=float32)'), ('MAJOR_AXIS', 'tf.Tensor(shape=(None,), dtype=float32)'), ('MINOR_AXIS', 'tf.Tensor(shape=(None,), dtype=float32)'), ('ECCENTRICITY', 'tf.Tensor(shape=(None,), dtype=float32)'), ('EQDIASQ', 'tf.Tensor(shape=(None,), dtype=float32)'), ('SOLIDITY', 'tf.Tensor(shape=(None,), dtype=float32)'), ('CONVEX_AREA', 'tf.Tensor(shape=(None,), dtype=float32)'), ('EXTENT', 'tf.Tensor(shape=(None,), dtype=float32)'), ('ASPECT_RATIO', 'tf.Tensor(shape=(None,), dtype=float32)'), ('ROUNDNESS', 'tf.Tensor(shape=(None,), dtype=float32)'), ('COMPACTNESS', 'tf.Tensor(shape=(None,), dtype=float32)'), ('SHAPEFACTOR_1', 'tf.Tensor(shape=(None,), dtype=float32)'), ('SHAPEFACTOR_2', 'tf.Tensor(shape=(None,), dtype=float32)'), ('SHAPEFACTOR_3', 'tf.Tensor(shape=(None,), dtype=float32)'), ('SHAPEFACTOR_4', 'tf.Tensor(shape=(None,), dtype=float32)')])\"",
     "output_type": "error",
     "traceback": [
      "\u001b[0;31m---------------------------------------------------------------------------\u001b[0m",
      "\u001b[0;31mKeyError\u001b[0m                                  Traceback (most recent call last)",
      "Cell \u001b[0;32mIn[8], line 1\u001b[0m\n\u001b[0;32m----> 1\u001b[0m \u001b[43mmodel\u001b[49m\u001b[38;5;241;43m.\u001b[39;49m\u001b[43mfit\u001b[49m\u001b[43m(\u001b[49m\u001b[43mpistachio_train_batches\u001b[49m\u001b[43m,\u001b[49m\u001b[43m \u001b[49m\u001b[43mepochs\u001b[49m\u001b[38;5;241;43m=\u001b[39;49m\u001b[38;5;241;43m10\u001b[39;49m\u001b[43m)\u001b[49m\n",
      "File \u001b[0;32m/usr/local/lib/python3.11/dist-packages/keras/src/utils/traceback_utils.py:123\u001b[0m, in \u001b[0;36mfilter_traceback.<locals>.error_handler\u001b[0;34m(*args, **kwargs)\u001b[0m\n\u001b[1;32m    120\u001b[0m     filtered_tb \u001b[38;5;241m=\u001b[39m _process_traceback_frames(e\u001b[38;5;241m.\u001b[39m__traceback__)\n\u001b[1;32m    121\u001b[0m     \u001b[38;5;66;03m# To get the full stack trace, call:\u001b[39;00m\n\u001b[1;32m    122\u001b[0m     \u001b[38;5;66;03m# `keras.config.disable_traceback_filtering()`\u001b[39;00m\n\u001b[0;32m--> 123\u001b[0m     \u001b[38;5;28;01mraise\u001b[39;00m e\u001b[38;5;241m.\u001b[39mwith_traceback(filtered_tb) \u001b[38;5;28;01mfrom\u001b[39;00m \u001b[38;5;28;01mNone\u001b[39;00m\n\u001b[1;32m    124\u001b[0m \u001b[38;5;28;01mfinally\u001b[39;00m:\n\u001b[1;32m    125\u001b[0m     \u001b[38;5;28;01mdel\u001b[39;00m filtered_tb\n",
      "Cell \u001b[0;32mIn[6], line 13\u001b[0m, in \u001b[0;36mPistachioModel.call\u001b[0;34m(self, x)\u001b[0m\n\u001b[1;32m     12\u001b[0m \u001b[38;5;28;01mdef\u001b[39;00m \u001b[38;5;21mcall\u001b[39m(\u001b[38;5;28mself\u001b[39m, x):\n\u001b[0;32m---> 13\u001b[0m   x \u001b[38;5;241m=\u001b[39m \u001b[38;5;28;43mself\u001b[39;49m\u001b[38;5;241;43m.\u001b[39;49m\u001b[43mbn\u001b[49m\u001b[43m(\u001b[49m\u001b[43mx\u001b[49m\u001b[43m)\u001b[49m\n\u001b[1;32m     14\u001b[0m   x \u001b[38;5;241m=\u001b[39m \u001b[38;5;28mself\u001b[39m\u001b[38;5;241m.\u001b[39md1(x)\n\u001b[1;32m     15\u001b[0m   x \u001b[38;5;241m=\u001b[39m \u001b[38;5;28mself\u001b[39m\u001b[38;5;241m.\u001b[39md2(x)\n",
      "\u001b[0;31mKeyError\u001b[0m: \"Exception encountered when calling PistachioModel.call().\\n\\n\\x1b[1m-1\\x1b[0m\\n\\nArguments received by PistachioModel.call():\\n  • x=OrderedDict([('AREA', 'tf.Tensor(shape=(None,), dtype=float32)'), ('PERIMETER', 'tf.Tensor(shape=(None,), dtype=float32)'), ('MAJOR_AXIS', 'tf.Tensor(shape=(None,), dtype=float32)'), ('MINOR_AXIS', 'tf.Tensor(shape=(None,), dtype=float32)'), ('ECCENTRICITY', 'tf.Tensor(shape=(None,), dtype=float32)'), ('EQDIASQ', 'tf.Tensor(shape=(None,), dtype=float32)'), ('SOLIDITY', 'tf.Tensor(shape=(None,), dtype=float32)'), ('CONVEX_AREA', 'tf.Tensor(shape=(None,), dtype=float32)'), ('EXTENT', 'tf.Tensor(shape=(None,), dtype=float32)'), ('ASPECT_RATIO', 'tf.Tensor(shape=(None,), dtype=float32)'), ('ROUNDNESS', 'tf.Tensor(shape=(None,), dtype=float32)'), ('COMPACTNESS', 'tf.Tensor(shape=(None,), dtype=float32)'), ('SHAPEFACTOR_1', 'tf.Tensor(shape=(None,), dtype=float32)'), ('SHAPEFACTOR_2', 'tf.Tensor(shape=(None,), dtype=float32)'), ('SHAPEFACTOR_3', 'tf.Tensor(shape=(None,), dtype=float32)'), ('SHAPEFACTOR_4', 'tf.Tensor(shape=(None,), dtype=float32)')])\""
     ]
    }
   ],
   "source": [
    "model.fit(pistachio_train_batches, epochs=10)"
   ]
  },
  {
   "cell_type": "code",
   "execution_count": null,
   "id": "af67db00-2cc9-4d2c-942e-cf6f422036dd",
   "metadata": {},
   "outputs": [],
   "source": [
    "## custom training loop stuff"
   ]
  },
  {
   "cell_type": "code",
   "execution_count": null,
   "id": "837ece09-1097-4802-a799-ac58f4b42f71",
   "metadata": {},
   "outputs": [],
   "source": [
    "@tf.function\n",
    "def train_step(images, labels):\n",
    "  with tf.GradientTape() as tape:\n",
    "    # training=True is only needed if there are layers with different\n",
    "    # behavior during training versus inference (e.g. Dropout).\n",
    "    predictions = model(images, training=True)\n",
    "    loss = loss_object(labels, predictions)\n",
    "  gradients = tape.gradient(loss, model.trainable_variables)\n",
    "  optimizer.apply_gradients(zip(gradients, model.trainable_variables))\n",
    "\n",
    "  train_loss(loss)\n",
    "  train_accuracy(labels, predictions)"
   ]
  },
  {
   "cell_type": "code",
   "execution_count": null,
   "id": "142a43b7-7b52-4502-b0e9-5e6415cb1b84",
   "metadata": {},
   "outputs": [],
   "source": [
    "@tf.function\n",
    "def test_step(images, labels):\n",
    "  # training=False is only needed if there are layers with different\n",
    "  # behavior during training versus inference (e.g. Dropout).\n",
    "  predictions = model(images, training=False)\n",
    "  t_loss = loss_object(labels, predictions)\n",
    "\n",
    "  test_loss(t_loss)\n",
    "  test_accuracy(labels, predictions)"
   ]
  },
  {
   "cell_type": "code",
   "execution_count": null,
   "id": "5c8b049d-3213-460c-ac02-d02a01454360",
   "metadata": {},
   "outputs": [],
   "source": [
    "\n",
    "for epoch in range(EPOCHS):\n",
    "  # Reset the metrics at the start of the next epoch\n",
    "  train_loss.reset_state()\n",
    "  train_accuracy.reset_state()\n",
    "  test_loss.reset_state()\n",
    "  test_accuracy.reset_state()\n",
    "\n",
    "  for images, labels in train_ds:\n",
    "    train_step(images, labels)\n",
    "\n",
    "  for test_images, test_labels in test_ds:\n",
    "    test_step(test_images, test_labels)\n",
    "\n",
    "  print(\n",
    "    f'Epoch {epoch + 1}, '\n",
    "    f'Loss: {train_loss.result():0.2f}, '\n",
    "    f'Accuracy: {train_accuracy.result() * 100:0.2f}, '\n",
    "    f'Test Loss: {test_loss.result():0.2f}, '\n",
    "    f'Test Accuracy: {test_accuracy.result() * 100:0.2f}'\n",
    "  )"
   ]
  }
 ],
 "metadata": {
  "kernelspec": {
   "display_name": "Python 3 (ipykernel)",
   "language": "python",
   "name": "python3"
  },
  "language_info": {
   "codemirror_mode": {
    "name": "ipython",
    "version": 3
   },
   "file_extension": ".py",
   "mimetype": "text/x-python",
   "name": "python",
   "nbconvert_exporter": "python",
   "pygments_lexer": "ipython3",
   "version": "3.11.0rc1"
  }
 },
 "nbformat": 4,
 "nbformat_minor": 5
}
