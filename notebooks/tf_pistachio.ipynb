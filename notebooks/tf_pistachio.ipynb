{
 "cells": [
  {
   "cell_type": "markdown",
   "id": "e67e146c-7741-4e5d-b3e5-152d1fcce01c",
   "metadata": {},
   "source": [
    "# tensorflow pistachio\n"
   ]
  },
  {
   "cell_type": "code",
   "execution_count": 1,
   "id": "9645c12f-836e-43ef-a516-dd6134687a21",
   "metadata": {},
   "outputs": [
    {
     "name": "stderr",
     "output_type": "stream",
     "text": [
      "2024-03-15 17:56:46.981956: I tensorflow/core/platform/cpu_feature_guard.cc:210] This TensorFlow binary is optimized to use available CPU instructions in performance-critical operations.\n",
      "To enable the following instructions: AVX2 FMA, in other operations, rebuild TensorFlow with the appropriate compiler flags.\n"
     ]
    },
    {
     "name": "stdout",
     "output_type": "stream",
     "text": [
      "2.16.1\n"
     ]
    }
   ],
   "source": [
    "import tensorflow as tf\n",
    "print(tf.__version__)"
   ]
  },
  {
   "cell_type": "markdown",
   "id": "215c077c-56e8-4081-b5dc-34945bd1fa61",
   "metadata": {},
   "source": [
    "## arff to csv\n",
    "\n",
    "\n",
    "\n"
   ]
  },
  {
   "cell_type": "code",
   "execution_count": 10,
   "id": "e19e49d4-8185-4a92-b60f-7e94609fccca",
   "metadata": {},
   "outputs": [
    {
     "name": "stdout",
     "output_type": "stream",
     "text": [
      "./data/pistachio_16.csv exists\n"
     ]
    }
   ],
   "source": [
    "import pandas as pd \n",
    "from scipy.io import arff\n",
    "import os \n",
    "label_mapping = {'Kirmizi_Pistachio': 0, 'Siit_Pistachio': 1}\n",
    "\n",
    "def load_arff_file(input_arff: str) -> pd.DataFrame:\n",
    "    \"\"\"convert arff file to parquet\"\"\"\n",
    "    if not os.path.exists(input_arff):\n",
    "        raise ValueError(f\"input file '{input_arff}' does not exist\")\n",
    "    print(f'loading arff file {input_arff}')\n",
    "    data, meta = arff.loadarff(input_arff)\n",
    "    print(f\"arff metadata: {meta}\")\n",
    "    df = pd.DataFrame(data)\n",
    "    df['Class'] = df['Class'].astype(str).map(label_mapping)\n",
    "    \n",
    "    return df\n",
    "##################\n",
    "arff_filename = './data/Pistachio_16_Features_Dataset.arff'\n",
    "csv_filename = './data/pistachio_16.csv'\n",
    "if not os.path.exists(csv_filename):\n",
    "    df = load_arff_file(arff_filename)\n",
    "    df.head()\n",
    "    df.to_csv(csv_filename, index=False, header=True)\n",
    "    print(f'wrote file to {csv_filename}')\n",
    "else:\n",
    "    print(f'{csv_filename} exists')\n"
   ]
  },
  {
   "cell_type": "code",
   "execution_count": null,
   "id": "013f6782-2c84-457f-8070-ce17ed3b3f2f",
   "metadata": {},
   "outputs": [],
   "source": [
    "## dataset"
   ]
  },
  {
   "cell_type": "code",
   "execution_count": 29,
   "id": "fd7845cd-40fe-4406-9874-ca68bc501561",
   "metadata": {},
   "outputs": [],
   "source": [
    "pistachio_batches = tf.data.experimental.make_csv_dataset(\n",
    "    csv_filename, batch_size=4,\n",
    "    num_epochs=1,\n",
    "    label_name=\"Class\")\n",
    "\n",
    "\n"
   ]
  },
  {
   "cell_type": "code",
   "execution_count": 31,
   "id": "f6a8ac90-eceb-44cb-a73f-8d55a76c66be",
   "metadata": {},
   "outputs": [
    {
     "name": "stdout",
     "output_type": "stream",
     "text": [
      "'label': [1 1 0 0]\n",
      "features:\n",
      "  'AREA'              : [80701. 98475. 83068. 83793.]\n",
      "  'PERIMETER'         : [1240.082 1315.56  1194.953 1322.916]\n",
      "  'MAJOR_AXIS'        : [417.4089 483.5079 472.6163 456.7764]\n",
      "  'MINOR_AXIS'        : [250.9569 268.0578 232.1761 237.9171]\n",
      "  'ECCENTRICITY'      : [0.7991 0.8322 0.871  0.8536]\n",
      "  'EQDIASQ'           : [320.5491 354.0936 325.216  326.6321]\n",
      "  'SOLIDITY'          : [0.9586 0.9504 0.9297 0.9545]\n",
      "  'CONVEX_AREA'       : [ 84184. 103618.  89346.  87789.]\n",
      "  'EXTENT'            : [0.7698 0.759  0.7602 0.7593]\n",
      "  'ASPECT_RATIO'      : [1.6633 1.8037 2.0356 1.9199]\n",
      "  'ROUNDNESS'         : [0.6595 0.715  0.731  0.6017]\n",
      "  'COMPACTNESS'       : [0.7679 0.7323 0.6881 0.7151]\n",
      "  'SHAPEFACTOR_1'     : [0.0052 0.0049 0.0057 0.0055]\n",
      "  'SHAPEFACTOR_2'     : [0.0031 0.0027 0.0028 0.0028]\n",
      "  'SHAPEFACTOR_3'     : [0.5897 0.5363 0.4735 0.5113]\n",
      "  'SHAPEFACTOR_4'     : [0.9809 0.9674 0.9639 0.9817]\n",
      "'label': [1 1 0 1]\n",
      "features:\n",
      "  'AREA'              : [103939.  94073.  80287.  78466.]\n",
      "  'PERIMETER'         : [1661.273 1234.496 1442.082 2356.908]\n",
      "  'MAJOR_AXIS'        : [494.7766 468.1513 451.6958 445.9131]\n",
      "  'MINOR_AXIS'        : [273.1789 259.2259 233.3839 258.5125]\n",
      "  'ECCENTRICITY'      : [0.8338 0.8327 0.8562 0.8148]\n",
      "  'EQDIASQ'           : [363.7846 346.0888 319.7258 316.0791]\n",
      "  'SOLIDITY'          : [0.9538 0.9734 0.9434 0.8662]\n",
      "  'CONVEX_AREA'       : [108978.  96646.  85101.  90591.]\n",
      "  'EXTENT'            : [0.7417 0.69   0.7366 0.6123]\n",
      "  'ASPECT_RATIO'      : [1.8112 1.806  1.9354 1.7249]\n",
      "  'ROUNDNESS'         : [0.4733 0.7757 0.4851 0.1775]\n",
      "  'COMPACTNESS'       : [0.7353 0.7393 0.7078 0.7088]\n",
      "  'SHAPEFACTOR_1'     : [0.0048 0.005  0.0056 0.0057]\n",
      "  'SHAPEFACTOR_2'     : [0.0026 0.0028 0.0029 0.0033]\n",
      "  'SHAPEFACTOR_3'     : [0.5406 0.5465 0.501  0.5024]\n",
      "  'SHAPEFACTOR_4'     : [0.9791 0.987  0.9697 0.8667]\n"
     ]
    },
    {
     "name": "stderr",
     "output_type": "stream",
     "text": [
      "2024-03-15 18:33:20.615001: W tensorflow/core/framework/local_rendezvous.cc:404] Local rendezvous is aborting with status: OUT_OF_RANGE: End of sequence\n"
     ]
    }
   ],
   "source": [
    "# batch = 0\n",
    "for feature_batch, label_batch in pistachio_batches.take(2):\n",
    "    # print(f'{batch}, {label_batch.shape}')\n",
    "    # batch += 1\n",
    "    \n",
    "    print(\"'label': {}\".format(label_batch))\n",
    "    print(\"features:\")\n",
    "    for key, value in feature_batch.items():\n",
    "        print(\"  {!r:20s}: {}\".format(key, value))"
   ]
  },
  {
   "cell_type": "code",
   "execution_count": null,
   "id": "d3eb37cc-1239-4d29-8427-0f0ba23b4002",
   "metadata": {},
   "outputs": [],
   "source": []
  }
 ],
 "metadata": {
  "kernelspec": {
   "display_name": "Python 3 (ipykernel)",
   "language": "python",
   "name": "python3"
  },
  "language_info": {
   "codemirror_mode": {
    "name": "ipython",
    "version": 3
   },
   "file_extension": ".py",
   "mimetype": "text/x-python",
   "name": "python",
   "nbconvert_exporter": "python",
   "pygments_lexer": "ipython3",
   "version": "3.11.0rc1"
  }
 },
 "nbformat": 4,
 "nbformat_minor": 5
}
