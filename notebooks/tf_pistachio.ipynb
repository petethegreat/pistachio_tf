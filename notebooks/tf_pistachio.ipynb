{
 "cells": [
  {
   "cell_type": "markdown",
   "id": "e67e146c-7741-4e5d-b3e5-152d1fcce01c",
   "metadata": {},
   "source": [
    "# tensorflow pistachio\n"
   ]
  },
  {
   "cell_type": "code",
   "execution_count": 3,
   "id": "9645c12f-836e-43ef-a516-dd6134687a21",
   "metadata": {},
   "outputs": [
    {
     "name": "stderr",
     "output_type": "stream",
     "text": [
      "2024-04-02 19:16:01.273741: I tensorflow/core/platform/cpu_feature_guard.cc:210] This TensorFlow binary is optimized to use available CPU instructions in performance-critical operations.\n",
      "To enable the following instructions: AVX2 FMA, in other operations, rebuild TensorFlow with the appropriate compiler flags.\n"
     ]
    },
    {
     "name": "stdout",
     "output_type": "stream",
     "text": [
      "2.16.1\n"
     ]
    }
   ],
   "source": [
    "import tensorflow as tf\n",
    "print(tf.__version__)"
   ]
  },
  {
   "cell_type": "markdown",
   "id": "215c077c-56e8-4081-b5dc-34945bd1fa61",
   "metadata": {},
   "source": [
    "## arff to csv\n",
    "\n",
    "\n",
    "\n"
   ]
  },
  {
   "cell_type": "code",
   "execution_count": 4,
   "id": "e19e49d4-8185-4a92-b60f-7e94609fccca",
   "metadata": {},
   "outputs": [
    {
     "name": "stdout",
     "output_type": "stream",
     "text": [
      "./data/pistachio_16.csv exists\n"
     ]
    }
   ],
   "source": [
    "import pandas as pd \n",
    "from scipy.io import arff\n",
    "import os \n",
    "label_mapping = {'Kirmizi_Pistachio': 0, 'Siit_Pistachio': 1}\n",
    "\n",
    "def load_arff_file(input_arff: str) -> pd.DataFrame:\n",
    "    \"\"\"convert arff file to parquet\"\"\"\n",
    "    if not os.path.exists(input_arff):\n",
    "        raise ValueError(f\"input file '{input_arff}' does not exist\")\n",
    "    print(f'loading arff file {input_arff}')\n",
    "    data, meta = arff.loadarff(input_arff)\n",
    "    print(f\"arff metadata: {meta}\")\n",
    "    df = pd.DataFrame(data)\n",
    "    df['Class'] = df['Class'].astype(str).map(label_mapping)\n",
    "    \n",
    "    return df\n",
    "##################\n",
    "arff_filename = './data/Pistachio_16_Features_Dataset.arff'\n",
    "csv_filename = './data/pistachio_16.csv'\n",
    "if not os.path.exists(csv_filename):\n",
    "    df = load_arff_file(arff_filename)\n",
    "    df.head()\n",
    "    df.to_csv(csv_filename, index=False, header=True)\n",
    "    print(f'wrote file to {csv_filename}')\n",
    "else:\n",
    "    print(f'{csv_filename} exists')\n"
   ]
  },
  {
   "cell_type": "code",
   "execution_count": null,
   "id": "013f6782-2c84-457f-8070-ce17ed3b3f2f",
   "metadata": {},
   "outputs": [],
   "source": [
    "## dataset"
   ]
  },
  {
   "cell_type": "code",
   "execution_count": 5,
   "id": "fd7845cd-40fe-4406-9874-ca68bc501561",
   "metadata": {},
   "outputs": [],
   "source": [
    "pistachio_batches = tf.data.experimental.make_csv_dataset(\n",
    "    csv_filename, batch_size=4,\n",
    "    num_epochs=1,\n",
    "    label_name=\"Class\")\n",
    "\n",
    "\n"
   ]
  },
  {
   "cell_type": "code",
   "execution_count": 6,
   "id": "f6a8ac90-eceb-44cb-a73f-8d55a76c66be",
   "metadata": {},
   "outputs": [
    {
     "name": "stdout",
     "output_type": "stream",
     "text": [
      "'label': [1 0 1 0]\n",
      "features:\n",
      "  'AREA'              : [99923. 72612. 93715. 69816.]\n",
      "  'PERIMETER'         : [1296.055 1075.491 1297.    1637.181]\n",
      "  'MAJOR_AXIS'        : [455.4228 431.4258 495.952  398.5653]\n",
      "  'MINOR_AXIS'        : [280.7125 216.4973 242.0692 230.7142]\n",
      "  'ECCENTRICITY'      : [0.7875 0.865  0.8728 0.8154]\n",
      "  'EQDIASQ'           : [356.6874 304.06   345.4297 298.1484]\n",
      "  'SOLIDITY'          : [0.9871 0.9797 0.9788 0.9256]\n",
      "  'CONVEX_AREA'       : [101229.  74117.  95748.  75427.]\n",
      "  'EXTENT'            : [0.7286 0.8003 0.8001 0.7451]\n",
      "  'ASPECT_RATIO'      : [1.6224 1.9928 2.0488 1.7275]\n",
      "  'ROUNDNESS'         : [0.7475 0.7889 0.7001 0.3273]\n",
      "  'COMPACTNESS'       : [0.7832 0.7048 0.6965 0.7481]\n",
      "  'SHAPEFACTOR_1'     : [0.0046 0.0059 0.0053 0.0057]\n",
      "  'SHAPEFACTOR_2'     : [0.0028 0.003  0.0026 0.0033]\n",
      "  'SHAPEFACTOR_3'     : [0.6134 0.4967 0.4851 0.5596]\n",
      "  'SHAPEFACTOR_4'     : [0.9952 0.9898 0.9939 0.9667]\n",
      "'label': [1 1 0 0]\n",
      "features:\n",
      "  'AREA'              : [100291.  88947.  73740.  75511.]\n",
      "  'PERIMETER'         : [1232.92  1317.873 2042.679 1895.159]\n",
      "  'MAJOR_AXIS'        : [471.6781 500.6831 424.248  424.7591]\n",
      "  'MINOR_AXIS'        : [271.6536 228.6167 254.1877 257.4445]\n",
      "  'ECCENTRICITY'      : [0.8175 0.8897 0.8006 0.7954]\n",
      "  'EQDIASQ'           : [357.3436 336.5276 306.4126 310.0703]\n",
      "  'SOLIDITY'          : [0.9916 0.9671 0.8627 0.8716]\n",
      "  'CONVEX_AREA'       : [101143.  91973.  85475.  86637.]\n",
      "  'EXTENT'            : [0.7575 0.7549 0.6777 0.7243]\n",
      "  'ASPECT_RATIO'      : [1.7363 2.1901 1.669  1.6499]\n",
      "  'ROUNDNESS'         : [0.8291 0.6436 0.2221 0.2642]\n",
      "  'COMPACTNESS'       : [0.7576 0.6721 0.7222 0.73  ]\n",
      "  'SHAPEFACTOR_1'     : [0.0047 0.0056 0.0058 0.0056]\n",
      "  'SHAPEFACTOR_2'     : [0.0027 0.0026 0.0034 0.0034]\n",
      "  'SHAPEFACTOR_3'     : [0.574  0.4518 0.5216 0.5329]\n",
      "  'SHAPEFACTOR_4'     : [0.9966 0.9894 0.8706 0.8792]\n"
     ]
    },
    {
     "name": "stderr",
     "output_type": "stream",
     "text": [
      "2024-04-02 19:16:06.651189: W tensorflow/core/framework/local_rendezvous.cc:404] Local rendezvous is aborting with status: OUT_OF_RANGE: End of sequence\n"
     ]
    }
   ],
   "source": [
    "# batch = 0\n",
    "for feature_batch, label_batch in pistachio_batches.take(2):\n",
    "    # print(f'{batch}, {label_batch.shape}')\n",
    "    # batch += 1\n",
    "    \n",
    "    print(\"'label': {}\".format(label_batch))\n",
    "    print(\"features:\")\n",
    "    for key, value in feature_batch.items():\n",
    "        print(\"  {!r:20s}: {}\".format(key, value))"
   ]
  },
  {
   "cell_type": "markdown",
   "id": "48becd0f-e403-4e38-8de1-0cf00d1dea89",
   "metadata": {},
   "source": [
    "## Model"
   ]
  },
  {
   "cell_type": "code",
   "execution_count": 3,
   "id": "bd86bdb2-b2a3-47ae-b4af-24a4ce24404f",
   "metadata": {},
   "outputs": [],
   "source": [
    "from tensorflow.keras.layers import Dense, Flatten, Conv2D, BatchNormalization\n",
    "from tensorflow.keras import Model\n",
    "\n",
    "class PistachioModel(Model):\n",
    "  def __init__(self):\n",
    "    super().__init__()\n",
    "    self.bn = BatchNormalization()\n",
    "    self.d1 = Dense(10, activation='relu')\n",
    "    self.d2 = Dense(10)\n",
    "    self.lout = Dense(1, activation='sigmoid')\n",
    "\n",
    "  def call(self, x):\n",
    "    x = self.bn(x)\n",
    "    x = self.d1(x)\n",
    "    x = self.d2(x)\n",
    "    return self.lout(x)\n",
    "\n",
    "# Create an instance of the model\n",
    "model = PistachioModel()"
   ]
  },
  {
   "cell_type": "code",
   "execution_count": null,
   "id": "afb24047-86ea-4f70-939c-769ca8089d4e",
   "metadata": {},
   "outputs": [],
   "source": [
    "model.compile(optimizer='adam',\n",
    "              loss=tf.keras.losses.SparseCategoricalCrossentropy(from_logits=True),\n",
    "              metrics=['accuracy'])"
   ]
  },
  {
   "cell_type": "code",
   "execution_count": null,
   "id": "837ece09-1097-4802-a799-ac58f4b42f71",
   "metadata": {},
   "outputs": [],
   "source": [
    "@tf.function\n",
    "def train_step(images, labels):\n",
    "  with tf.GradientTape() as tape:\n",
    "    # training=True is only needed if there are layers with different\n",
    "    # behavior during training versus inference (e.g. Dropout).\n",
    "    predictions = model(images, training=True)\n",
    "    loss = loss_object(labels, predictions)\n",
    "  gradients = tape.gradient(loss, model.trainable_variables)\n",
    "  optimizer.apply_gradients(zip(gradients, model.trainable_variables))\n",
    "\n",
    "  train_loss(loss)\n",
    "  train_accuracy(labels, predictions)"
   ]
  },
  {
   "cell_type": "code",
   "execution_count": null,
   "id": "142a43b7-7b52-4502-b0e9-5e6415cb1b84",
   "metadata": {},
   "outputs": [],
   "source": [
    "@tf.function\n",
    "def test_step(images, labels):\n",
    "  # training=False is only needed if there are layers with different\n",
    "  # behavior during training versus inference (e.g. Dropout).\n",
    "  predictions = model(images, training=False)\n",
    "  t_loss = loss_object(labels, predictions)\n",
    "\n",
    "  test_loss(t_loss)\n",
    "  test_accuracy(labels, predictions)"
   ]
  },
  {
   "cell_type": "code",
   "execution_count": null,
   "id": "5c8b049d-3213-460c-ac02-d02a01454360",
   "metadata": {},
   "outputs": [],
   "source": [
    "\n",
    "for epoch in range(EPOCHS):\n",
    "  # Reset the metrics at the start of the next epoch\n",
    "  train_loss.reset_state()\n",
    "  train_accuracy.reset_state()\n",
    "  test_loss.reset_state()\n",
    "  test_accuracy.reset_state()\n",
    "\n",
    "  for images, labels in train_ds:\n",
    "    train_step(images, labels)\n",
    "\n",
    "  for test_images, test_labels in test_ds:\n",
    "    test_step(test_images, test_labels)\n",
    "\n",
    "  print(\n",
    "    f'Epoch {epoch + 1}, '\n",
    "    f'Loss: {train_loss.result():0.2f}, '\n",
    "    f'Accuracy: {train_accuracy.result() * 100:0.2f}, '\n",
    "    f'Test Loss: {test_loss.result():0.2f}, '\n",
    "    f'Test Accuracy: {test_accuracy.result() * 100:0.2f}'\n",
    "  )"
   ]
  }
 ],
 "metadata": {
  "kernelspec": {
   "display_name": "Python 3 (ipykernel)",
   "language": "python",
   "name": "python3"
  },
  "language_info": {
   "codemirror_mode": {
    "name": "ipython",
    "version": 3
   },
   "file_extension": ".py",
   "mimetype": "text/x-python",
   "name": "python",
   "nbconvert_exporter": "python",
   "pygments_lexer": "ipython3",
   "version": "3.11.0rc1"
  }
 },
 "nbformat": 4,
 "nbformat_minor": 5
}
