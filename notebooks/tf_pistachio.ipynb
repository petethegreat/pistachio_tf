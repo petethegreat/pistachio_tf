{
 "cells": [
  {
   "cell_type": "markdown",
   "id": "e67e146c-7741-4e5d-b3e5-152d1fcce01c",
   "metadata": {},
   "source": [
    "# tensorflow pistachio\n"
   ]
  },
  {
   "cell_type": "code",
   "execution_count": 1,
   "id": "9645c12f-836e-43ef-a516-dd6134687a21",
   "metadata": {},
   "outputs": [
    {
     "name": "stderr",
     "output_type": "stream",
     "text": [
      "2024-05-03 15:33:54.530098: I tensorflow/core/platform/cpu_feature_guard.cc:210] This TensorFlow binary is optimized to use available CPU instructions in performance-critical operations.\n",
      "To enable the following instructions: AVX2 FMA, in other operations, rebuild TensorFlow with the appropriate compiler flags.\n"
     ]
    },
    {
     "name": "stdout",
     "output_type": "stream",
     "text": [
      "2.16.1\n"
     ]
    }
   ],
   "source": [
    "import tensorflow as tf\n",
    "print(tf.__version__)"
   ]
  },
  {
   "cell_type": "markdown",
   "id": "215c077c-56e8-4081-b5dc-34945bd1fa61",
   "metadata": {},
   "source": [
    "## arff to csv\n",
    "\n",
    "\n",
    "\n"
   ]
  },
  {
   "cell_type": "code",
   "execution_count": 2,
   "id": "e19e49d4-8185-4a92-b60f-7e94609fccca",
   "metadata": {},
   "outputs": [
    {
     "name": "stdout",
     "output_type": "stream",
     "text": [
      "./data/pistachio_16.csv exists\n"
     ]
    }
   ],
   "source": [
    "import pandas as pd \n",
    "from scipy.io import arff\n",
    "import os \n",
    "label_mapping = {'Kirmizi_Pistachio': 0, 'Siit_Pistachio': 1}\n",
    "\n",
    "def load_arff_file(input_arff: str) -> pd.DataFrame:\n",
    "    \"\"\"convert arff file to parquet\"\"\"\n",
    "    if not os.path.exists(input_arff):\n",
    "        raise ValueError(f\"input file '{input_arff}' does not exist\")\n",
    "    print(f'loading arff file {input_arff}')\n",
    "    data, meta = arff.loadarff(input_arff)\n",
    "    print(f\"arff metadata: {meta}\")\n",
    "    df = pd.DataFrame(data)\n",
    "    df['Class'] = df['Class'].astype(str).map(label_mapping)\n",
    "    \n",
    "    return df\n",
    "##################\n",
    "\n",
    "arff_filename = './data/Pistachio_16_Features_Dataset.arff'\n",
    "csv_filename = './data/pistachio_16.csv'\n",
    "if not os.path.exists(csv_filename):\n",
    "    df = load_arff_file(arff_filename)\n",
    "    df.head()\n",
    "    df.to_csv(csv_filename, index=False, header=True)\n",
    "    print(f'wrote file to {csv_filename}')\n",
    "else:\n",
    "    print(f'{csv_filename} exists')\n"
   ]
  },
  {
   "cell_type": "markdown",
   "id": "55e66103-32dc-4820-8089-71b0f3b4b789",
   "metadata": {},
   "source": [
    "## dataset\n"
   ]
  },
  {
   "cell_type": "code",
   "execution_count": 3,
   "id": "fd7845cd-40fe-4406-9874-ca68bc501561",
   "metadata": {},
   "outputs": [
    {
     "name": "stdout",
     "output_type": "stream",
     "text": [
      "['./data/pistachio_train.csv', './data/pistachio_valid.csv', './data/pistachio_test.csv'] exist\n"
     ]
    }
   ],
   "source": [
    "import numpy as np\n",
    "from typing import List\n",
    "# want a stratified split here\n",
    "def split_csv_data(infilename: str, filenames: List[str], fractions: List[float]):\n",
    "    df = pd.read_csv(infilename, header=0)\n",
    "    df = df.sample(frac=1.0, random_state=34)\n",
    "    columns = df.columns\n",
    "    print(f'total_records = {len(df)}')\n",
    "    if len(filenames) != len(fractions):\n",
    "        raise ValueError('list of filenames must be of same length as split fractions')\n",
    "    renorm = sum(fractions)\n",
    "    lower_bound = 0\n",
    "    df['split_var'] = np.random.uniform(size=len(df))\n",
    "\n",
    "    for filename, frac in zip(filenames, fractions):\n",
    "        upper_bound = lower_bound + frac/renorm\n",
    "        this_data = df.loc[(df.split_var >= lower_bound) & (df.split_var < upper_bound) ][columns]\n",
    "        this_data.to_csv(filename, index=False, header=True)\n",
    "        print(f'wrote {len(this_data)} records to {filename}')\n",
    "        lower_bound = upper_bound\n",
    "#################################\n",
    "    \n",
    "train_filename = './data/pistachio_train.csv'\n",
    "valid_filename = './data/pistachio_valid.csv'\n",
    "test_filename = './data/pistachio_test.csv'\n",
    "filenames = [train_filename, valid_filename, test_filename]\n",
    "fractions = [0.75, 0.10, 0.15]\n",
    "\n",
    "if not (os.path.exists(train_filename) and os.path.exists(test_filename) and os.path.exists(valid_filename)):\n",
    "    split_csv_data(csv_filename, filenames, fractions )\n",
    "else:\n",
    "    print(f'{filenames} exist')\n",
    "\n",
    "\n",
    "\n",
    "\n"
   ]
  },
  {
   "cell_type": "code",
   "execution_count": 11,
   "id": "1902bad6-0b5a-4cbf-8163-159c21a7b4ba",
   "metadata": {},
   "outputs": [],
   "source": [
    "def map_func(features, labels):\n",
    "    return tf.transpose(tf.stack([features[k] for k in features])), tf.reshape(labels,[-1,1])\n",
    "\n",
    "# use dataset.map to concatenate feature dictionary into tensor\n",
    "pistachio_train_batches = tf.data.experimental.make_csv_dataset(\n",
    "    train_filename, batch_size=4,\n",
    "    num_epochs=1,\n",
    "    label_name=\"Class\").map(map_func)\n",
    "pistachio_test_data = tf.data.experimental.make_csv_dataset(\n",
    "    test_filename,\n",
    "    batch_size=4,\n",
    "    num_epochs=1,\n",
    "    label_name=\"Class\").map(map_func)\n",
    "validation_data = tf.data.experimental.make_csv_dataset(\n",
    "    valid_filename, batch_size=4,\n",
    "    num_epochs=1,\n",
    "    label_name=\"Class\").map(map_func)"
   ]
  },
  {
   "cell_type": "code",
   "execution_count": 12,
   "id": "f6a8ac90-eceb-44cb-a73f-8d55a76c66be",
   "metadata": {},
   "outputs": [
    {
     "name": "stdout",
     "output_type": "stream",
     "text": [
      "'label': [[0]\n",
      " [1]\n",
      " [1]\n",
      " [0]]\n",
      "features batch shape: (4, 16)\n",
      "'label': [[0]\n",
      " [0]\n",
      " [1]\n",
      " [0]]\n",
      "features batch shape: (4, 16)\n"
     ]
    },
    {
     "name": "stderr",
     "output_type": "stream",
     "text": [
      "2024-05-03 15:35:45.953447: W tensorflow/core/framework/local_rendezvous.cc:404] Local rendezvous is aborting with status: OUT_OF_RANGE: End of sequence\n"
     ]
    }
   ],
   "source": [
    "batch = 0\n",
    "for feature_batch, label_batch in pistachio_train_batches.take(2):\n",
    "    # print(f'{batch}, {label_batch.shape}')\n",
    "    # cat_batch = tf.stack([feature_batch['AREA'],feature_batch['PERIMETER']],axis=1)\n",
    "    # cat_batch = tf.stack([feature_batch[k] for k in feature_batch],axis=1)\n",
    "\n",
    "    # batch += 1\n",
    "    \n",
    "    print(\"'label': {}\".format(label_batch))\n",
    "    # print(cat_batch)\n",
    "    print(f\"features batch shape: {feature_batch.shape}\")\n",
    "    # print(feature_batch.shape)\n",
    "    "
   ]
  },
  {
   "cell_type": "markdown",
   "id": "48becd0f-e403-4e38-8de1-0cf00d1dea89",
   "metadata": {},
   "source": [
    "## Model"
   ]
  },
  {
   "cell_type": "code",
   "execution_count": 47,
   "id": "bd86bdb2-b2a3-47ae-b4af-24a4ce24404f",
   "metadata": {},
   "outputs": [],
   "source": [
    "# from tensorflow.keras.layers import Dense, Flatten, Conv2D, BatchNormalization\n",
    "# from tensorflow.keras import Model\n",
    "\n",
    "# class PistachioModel(Model):\n",
    "#     def __init__(self, units: int=10):\n",
    "#         super().__init__()\n",
    "#         self._units = units\n",
    "    \n",
    "\n",
    "#     def build(self, input_shape):\n",
    "#         self.bn = BatchNormalization(axis=0, input_shape=input_shape)\n",
    "#         self.d1 = Dense(self._units, activation='relu', input_shape=input_shape)\n",
    "#         self.d2 = Dense(self._units)\n",
    "#         self.lout = Dense(1, activation='sigmoid')\n",
    "        \n",
    "\n",
    "\n",
    "#     def call(self, x):\n",
    "#         x = self.bn(x)\n",
    "#         x = self.d1(x)\n",
    "#         x = self.d2(x)\n",
    "#         return self.lout(x)\n",
    "\n",
    "# # Create an instance of the model\n",
    "# model = PistachioModel()"
   ]
  },
  {
   "cell_type": "markdown",
   "id": "aaea6012-3ffa-4ca8-b617-9d0999e588a4",
   "metadata": {},
   "source": [
    "## Keras model.fit api"
   ]
  },
  {
   "cell_type": "code",
   "execution_count": 48,
   "id": "afb24047-86ea-4f70-939c-769ca8089d4e",
   "metadata": {},
   "outputs": [],
   "source": [
    "# model.compile(optimizer='adam',\n",
    "#               loss=tf.keras.losses.BinaryCrossentropy(from_logits=False),\n",
    "#               metrics=['accuracy', 'auc'])\n",
    "\n",
    "\n",
    "\n",
    "\n",
    "\n"
   ]
  },
  {
   "cell_type": "code",
   "execution_count": 8,
   "id": "80e71dc3-4e8f-4895-946b-04af6afcea8e",
   "metadata": {},
   "outputs": [],
   "source": [
    "# model.fit(pistachio_train_batches, epochs=10)"
   ]
  },
  {
   "cell_type": "markdown",
   "id": "6196f01d-4e1d-4014-9041-a8228d2117e3",
   "metadata": {},
   "source": [
    "## sequential model"
   ]
  },
  {
   "cell_type": "code",
   "execution_count": 13,
   "id": "ffdfcd8e-0ee0-4882-a93c-3cef10012d70",
   "metadata": {},
   "outputs": [],
   "source": [
    "model2 = tf.keras.models.Sequential([\n",
    "  tf.keras.layers.BatchNormalization(), \n",
    "  tf.keras.layers.Dense(16, activation='relu'),\n",
    "  tf.keras.layers.Dropout(0.2),\n",
    "  tf.keras.layers.Dense(16),\n",
    "  tf.keras.layers.Dense(1, activation='sigmoid')\n",
    "])\n",
    "\n",
    "\n",
    "model2.compile(optimizer=tf.keras.optimizers.Adam(learning_rate=1e-4),\n",
    "              loss=tf.keras.losses.BinaryCrossentropy(from_logits=False),\n",
    "              metrics=['accuracy', 'auc', 'precision', 'recall'])"
   ]
  },
  {
   "cell_type": "code",
   "execution_count": 14,
   "id": "32a9cc68-ae2c-4564-af0a-16be2692cbe4",
   "metadata": {},
   "outputs": [
    {
     "name": "stdout",
     "output_type": "stream",
     "text": [
      "Epoch 1/20\n",
      "    389/Unknown \u001b[1m2s\u001b[0m 1ms/step - accuracy: 0.5741 - auc: 0.6996 - loss: 0.6420 - precision: 0.6184 - recall: 0.1590"
     ]
    },
    {
     "name": "stderr",
     "output_type": "stream",
     "text": [
      "2024-05-03 15:36:01.878182: W tensorflow/core/framework/local_rendezvous.cc:404] Local rendezvous is aborting with status: OUT_OF_RANGE: End of sequence\n",
      "\t [[{{node IteratorGetNext}}]]\n",
      "/usr/lib/python3.11/contextlib.py:155: UserWarning: Your input ran out of data; interrupting training. Make sure that your dataset or generator can generate at least `steps_per_epoch * epochs` batches. You may need to use the `.repeat()` function when building your dataset.\n",
      "  self.gen.throw(typ, value, traceback)\n"
     ]
    },
    {
     "name": "stdout",
     "output_type": "stream",
     "text": [
      "\u001b[1m398/398\u001b[0m \u001b[32m━━━━━━━━━━━━━━━━━━━━\u001b[0m\u001b[37m\u001b[0m \u001b[1m3s\u001b[0m 2ms/step - accuracy: 0.5760 - auc: 0.7010 - loss: 0.6409 - precision: 0.6215 - recall: 0.1626 - val_accuracy: 0.7602 - val_auc: 0.8953 - val_loss: 0.5415 - val_precision: 0.8246 - val_recall: 0.5222\n",
      "Epoch 2/20\n",
      "\u001b[1m 41/398\u001b[0m \u001b[32m━━\u001b[0m\u001b[37m━━━━━━━━━━━━━━━━━━\u001b[0m \u001b[1m0s\u001b[0m 1ms/step - accuracy: 0.6668 - auc: 0.8291 - loss: 0.5663 - precision: 0.8297 - recall: 0.3873  "
     ]
    },
    {
     "name": "stderr",
     "output_type": "stream",
     "text": [
      "2024-05-03 15:36:02.279921: W tensorflow/core/framework/local_rendezvous.cc:404] Local rendezvous is aborting with status: OUT_OF_RANGE: End of sequence\n",
      "\t [[{{node IteratorGetNext}}]]\n"
     ]
    },
    {
     "name": "stdout",
     "output_type": "stream",
     "text": [
      "\u001b[1m398/398\u001b[0m \u001b[32m━━━━━━━━━━━━━━━━━━━━\u001b[0m\u001b[37m\u001b[0m \u001b[1m1s\u001b[0m 2ms/step - accuracy: 0.7368 - auc: 0.8232 - loss: 0.5400 - precision: 0.7838 - recall: 0.5596 - val_accuracy: 0.8869 - val_auc: 0.9188 - val_loss: 0.4298 - val_precision: 0.8824 - val_recall: 0.8333\n",
      "Epoch 3/20\n"
     ]
    },
    {
     "name": "stderr",
     "output_type": "stream",
     "text": [
      "2024-05-03 15:36:02.979744: W tensorflow/core/framework/local_rendezvous.cc:404] Local rendezvous is aborting with status: OUT_OF_RANGE: End of sequence\n",
      "\t [[{{node IteratorGetNext}}]]\n",
      "2024-05-03 15:36:03.079561: W tensorflow/core/framework/local_rendezvous.cc:404] Local rendezvous is aborting with status: OUT_OF_RANGE: End of sequence\n",
      "\t [[{{node IteratorGetNext}}]]\n"
     ]
    },
    {
     "name": "stdout",
     "output_type": "stream",
     "text": [
      "\u001b[1m398/398\u001b[0m \u001b[32m━━━━━━━━━━━━━━━━━━━━\u001b[0m\u001b[37m\u001b[0m \u001b[1m1s\u001b[0m 2ms/step - accuracy: 0.7528 - auc: 0.8252 - loss: 0.5165 - precision: 0.7499 - recall: 0.6609 - val_accuracy: 0.8778 - val_auc: 0.9217 - val_loss: 0.4027 - val_precision: 0.8316 - val_recall: 0.8778\n",
      "Epoch 4/20\n"
     ]
    },
    {
     "name": "stderr",
     "output_type": "stream",
     "text": [
      "2024-05-03 15:36:04.274266: W tensorflow/core/framework/local_rendezvous.cc:404] Local rendezvous is aborting with status: OUT_OF_RANGE: End of sequence\n",
      "\t [[{{node IteratorGetNext}}]]\n",
      "2024-05-03 15:36:04.380621: W tensorflow/core/framework/local_rendezvous.cc:404] Local rendezvous is aborting with status: OUT_OF_RANGE: End of sequence\n",
      "\t [[{{node IteratorGetNext}}]]\n"
     ]
    },
    {
     "name": "stdout",
     "output_type": "stream",
     "text": [
      "\u001b[1m398/398\u001b[0m \u001b[32m━━━━━━━━━━━━━━━━━━━━\u001b[0m\u001b[37m\u001b[0m \u001b[1m1s\u001b[0m 2ms/step - accuracy: 0.7873 - auc: 0.8537 - loss: 0.4746 - precision: 0.7818 - recall: 0.7259 - val_accuracy: 0.8778 - val_auc: 0.9219 - val_loss: 0.3924 - val_precision: 0.8316 - val_recall: 0.8778\n",
      "Epoch 5/20\n"
     ]
    },
    {
     "name": "stderr",
     "output_type": "stream",
     "text": [
      "2024-05-03 15:36:05.117426: W tensorflow/core/framework/local_rendezvous.cc:404] Local rendezvous is aborting with status: OUT_OF_RANGE: End of sequence\n",
      "\t [[{{node IteratorGetNext}}]]\n",
      "2024-05-03 15:36:05.230563: W tensorflow/core/framework/local_rendezvous.cc:404] Local rendezvous is aborting with status: OUT_OF_RANGE: End of sequence\n",
      "\t [[{{node IteratorGetNext}}]]\n"
     ]
    },
    {
     "name": "stdout",
     "output_type": "stream",
     "text": [
      "\u001b[1m398/398\u001b[0m \u001b[32m━━━━━━━━━━━━━━━━━━━━\u001b[0m\u001b[37m\u001b[0m \u001b[1m1s\u001b[0m 2ms/step - accuracy: 0.7865 - auc: 0.8590 - loss: 0.4712 - precision: 0.7620 - recall: 0.7443 - val_accuracy: 0.8733 - val_auc: 0.9256 - val_loss: 0.3742 - val_precision: 0.8229 - val_recall: 0.8778\n",
      "Epoch 6/20\n"
     ]
    },
    {
     "name": "stderr",
     "output_type": "stream",
     "text": [
      "2024-05-03 15:36:06.549748: W tensorflow/core/framework/local_rendezvous.cc:404] Local rendezvous is aborting with status: OUT_OF_RANGE: End of sequence\n",
      "\t [[{{node IteratorGetNext}}]]\n",
      "2024-05-03 15:36:06.663985: W tensorflow/core/framework/local_rendezvous.cc:404] Local rendezvous is aborting with status: OUT_OF_RANGE: End of sequence\n",
      "\t [[{{node IteratorGetNext}}]]\n"
     ]
    },
    {
     "name": "stdout",
     "output_type": "stream",
     "text": [
      "\u001b[1m398/398\u001b[0m \u001b[32m━━━━━━━━━━━━━━━━━━━━\u001b[0m\u001b[37m\u001b[0m \u001b[1m1s\u001b[0m 2ms/step - accuracy: 0.7671 - auc: 0.8368 - loss: 0.4969 - precision: 0.7527 - recall: 0.6839 - val_accuracy: 0.8778 - val_auc: 0.9256 - val_loss: 0.3726 - val_precision: 0.8316 - val_recall: 0.8778\n",
      "Epoch 7/20\n",
      "\u001b[1m  1/398\u001b[0m \u001b[37m━━━━━━━━━━━━━━━━━━━━\u001b[0m \u001b[1m30s\u001b[0m 77ms/step - accuracy: 0.2500 - auc: 0.0000e+00 - loss: 1.0559 - precision: 0.0000e+00 - recall: 0.0000e+00"
     ]
    },
    {
     "name": "stderr",
     "output_type": "stream",
     "text": [
      "2024-05-03 15:36:07.371279: W tensorflow/core/framework/local_rendezvous.cc:404] Local rendezvous is aborting with status: OUT_OF_RANGE: End of sequence\n",
      "\t [[{{node IteratorGetNext}}]]\n",
      "2024-05-03 15:36:07.464370: W tensorflow/core/framework/local_rendezvous.cc:404] Local rendezvous is aborting with status: OUT_OF_RANGE: End of sequence\n",
      "\t [[{{node IteratorGetNext}}]]\n"
     ]
    },
    {
     "name": "stdout",
     "output_type": "stream",
     "text": [
      "\u001b[1m398/398\u001b[0m \u001b[32m━━━━━━━━━━━━━━━━━━━━\u001b[0m\u001b[37m\u001b[0m \u001b[1m1s\u001b[0m 2ms/step - accuracy: 0.7590 - auc: 0.8392 - loss: 0.4903 - precision: 0.7193 - recall: 0.7089 - val_accuracy: 0.8778 - val_auc: 0.9279 - val_loss: 0.3711 - val_precision: 0.8316 - val_recall: 0.8778\n",
      "Epoch 8/20\n"
     ]
    },
    {
     "name": "stderr",
     "output_type": "stream",
     "text": [
      "2024-05-03 15:36:08.071413: W tensorflow/core/framework/local_rendezvous.cc:404] Local rendezvous is aborting with status: OUT_OF_RANGE: End of sequence\n",
      "\t [[{{node IteratorGetNext}}]]\n",
      "2024-05-03 15:36:08.168612: W tensorflow/core/framework/local_rendezvous.cc:404] Local rendezvous is aborting with status: OUT_OF_RANGE: End of sequence\n",
      "\t [[{{node IteratorGetNext}}]]\n"
     ]
    },
    {
     "name": "stdout",
     "output_type": "stream",
     "text": [
      "\u001b[1m398/398\u001b[0m \u001b[32m━━━━━━━━━━━━━━━━━━━━\u001b[0m\u001b[37m\u001b[0m \u001b[1m1s\u001b[0m 2ms/step - accuracy: 0.7891 - auc: 0.8724 - loss: 0.4443 - precision: 0.7704 - recall: 0.7181 - val_accuracy: 0.8597 - val_auc: 0.9265 - val_loss: 0.3713 - val_precision: 0.7980 - val_recall: 0.8778\n",
      "Epoch 9/20\n"
     ]
    },
    {
     "name": "stderr",
     "output_type": "stream",
     "text": [
      "2024-05-03 15:36:09.094685: W tensorflow/core/framework/local_rendezvous.cc:404] Local rendezvous is aborting with status: OUT_OF_RANGE: End of sequence\n",
      "\t [[{{node IteratorGetNext}}]]\n",
      "2024-05-03 15:36:09.206111: W tensorflow/core/framework/local_rendezvous.cc:404] Local rendezvous is aborting with status: OUT_OF_RANGE: End of sequence\n",
      "\t [[{{node IteratorGetNext}}]]\n"
     ]
    },
    {
     "name": "stdout",
     "output_type": "stream",
     "text": [
      "\u001b[1m398/398\u001b[0m \u001b[32m━━━━━━━━━━━━━━━━━━━━\u001b[0m\u001b[37m\u001b[0m \u001b[1m1s\u001b[0m 1ms/step - accuracy: 0.7763 - auc: 0.8535 - loss: 0.4733 - precision: 0.7537 - recall: 0.7354 - val_accuracy: 0.8824 - val_auc: 0.9285 - val_loss: 0.3640 - val_precision: 0.8404 - val_recall: 0.8778\n",
      "Epoch 10/20\n"
     ]
    },
    {
     "name": "stderr",
     "output_type": "stream",
     "text": [
      "2024-05-03 15:36:10.102342: W tensorflow/core/framework/local_rendezvous.cc:404] Local rendezvous is aborting with status: OUT_OF_RANGE: End of sequence\n",
      "\t [[{{node IteratorGetNext}}]]\n",
      "2024-05-03 15:36:10.189065: W tensorflow/core/framework/local_rendezvous.cc:404] Local rendezvous is aborting with status: OUT_OF_RANGE: End of sequence\n",
      "\t [[{{node IteratorGetNext}}]]\n"
     ]
    },
    {
     "name": "stdout",
     "output_type": "stream",
     "text": [
      "\u001b[1m398/398\u001b[0m \u001b[32m━━━━━━━━━━━━━━━━━━━━\u001b[0m\u001b[37m\u001b[0m \u001b[1m2s\u001b[0m 2ms/step - accuracy: 0.7743 - auc: 0.8468 - loss: 0.4749 - precision: 0.7453 - recall: 0.7135 - val_accuracy: 0.8778 - val_auc: 0.9291 - val_loss: 0.3682 - val_precision: 0.8316 - val_recall: 0.8778\n",
      "Epoch 11/20\n"
     ]
    },
    {
     "name": "stderr",
     "output_type": "stream",
     "text": [
      "2024-05-03 15:36:11.722044: W tensorflow/core/framework/local_rendezvous.cc:404] Local rendezvous is aborting with status: OUT_OF_RANGE: End of sequence\n",
      "\t [[{{node IteratorGetNext}}]]\n",
      "2024-05-03 15:36:11.833664: W tensorflow/core/framework/local_rendezvous.cc:404] Local rendezvous is aborting with status: OUT_OF_RANGE: End of sequence\n",
      "\t [[{{node IteratorGetNext}}]]\n"
     ]
    },
    {
     "name": "stdout",
     "output_type": "stream",
     "text": [
      "\u001b[1m398/398\u001b[0m \u001b[32m━━━━━━━━━━━━━━━━━━━━\u001b[0m\u001b[37m\u001b[0m \u001b[1m1s\u001b[0m 2ms/step - accuracy: 0.8015 - auc: 0.8767 - loss: 0.4342 - precision: 0.7770 - recall: 0.7548 - val_accuracy: 0.8733 - val_auc: 0.9296 - val_loss: 0.3619 - val_precision: 0.8229 - val_recall: 0.8778\n",
      "Epoch 12/20\n"
     ]
    },
    {
     "name": "stderr",
     "output_type": "stream",
     "text": [
      "2024-05-03 15:36:12.430649: W tensorflow/core/framework/local_rendezvous.cc:404] Local rendezvous is aborting with status: OUT_OF_RANGE: End of sequence\n",
      "\t [[{{node IteratorGetNext}}]]\n",
      "2024-05-03 15:36:12.523893: W tensorflow/core/framework/local_rendezvous.cc:404] Local rendezvous is aborting with status: OUT_OF_RANGE: End of sequence\n",
      "\t [[{{node IteratorGetNext}}]]\n"
     ]
    },
    {
     "name": "stdout",
     "output_type": "stream",
     "text": [
      "\u001b[1m398/398\u001b[0m \u001b[32m━━━━━━━━━━━━━━━━━━━━\u001b[0m\u001b[37m\u001b[0m \u001b[1m1s\u001b[0m 2ms/step - accuracy: 0.7824 - auc: 0.8556 - loss: 0.4673 - precision: 0.7253 - recall: 0.7451 - val_accuracy: 0.8778 - val_auc: 0.9293 - val_loss: 0.3617 - val_precision: 0.8316 - val_recall: 0.8778\n",
      "Epoch 13/20\n"
     ]
    },
    {
     "name": "stderr",
     "output_type": "stream",
     "text": [
      "2024-05-03 15:36:13.304809: W tensorflow/core/framework/local_rendezvous.cc:404] Local rendezvous is aborting with status: OUT_OF_RANGE: End of sequence\n",
      "\t [[{{node IteratorGetNext}}]]\n",
      "2024-05-03 15:36:13.415543: W tensorflow/core/framework/local_rendezvous.cc:404] Local rendezvous is aborting with status: OUT_OF_RANGE: End of sequence\n",
      "\t [[{{node IteratorGetNext}}]]\n"
     ]
    },
    {
     "name": "stdout",
     "output_type": "stream",
     "text": [
      "\u001b[1m398/398\u001b[0m \u001b[32m━━━━━━━━━━━━━━━━━━━━\u001b[0m\u001b[37m\u001b[0m \u001b[1m1s\u001b[0m 2ms/step - accuracy: 0.7839 - auc: 0.8609 - loss: 0.4595 - precision: 0.7657 - recall: 0.7271 - val_accuracy: 0.8552 - val_auc: 0.9285 - val_loss: 0.3683 - val_precision: 0.7900 - val_recall: 0.8778\n",
      "Epoch 14/20\n"
     ]
    },
    {
     "name": "stderr",
     "output_type": "stream",
     "text": [
      "2024-05-03 15:36:14.187344: W tensorflow/core/framework/local_rendezvous.cc:404] Local rendezvous is aborting with status: OUT_OF_RANGE: End of sequence\n",
      "\t [[{{node IteratorGetNext}}]]\n",
      "2024-05-03 15:36:14.287986: W tensorflow/core/framework/local_rendezvous.cc:404] Local rendezvous is aborting with status: OUT_OF_RANGE: End of sequence\n",
      "\t [[{{node IteratorGetNext}}]]\n"
     ]
    },
    {
     "name": "stdout",
     "output_type": "stream",
     "text": [
      "\u001b[1m398/398\u001b[0m \u001b[32m━━━━━━━━━━━━━━━━━━━━\u001b[0m\u001b[37m\u001b[0m \u001b[1m1s\u001b[0m 2ms/step - accuracy: 0.7790 - auc: 0.8533 - loss: 0.4748 - precision: 0.7528 - recall: 0.7269 - val_accuracy: 0.8778 - val_auc: 0.9304 - val_loss: 0.3608 - val_precision: 0.8316 - val_recall: 0.8778\n",
      "Epoch 15/20\n"
     ]
    },
    {
     "name": "stderr",
     "output_type": "stream",
     "text": [
      "2024-05-03 15:36:15.594859: W tensorflow/core/framework/local_rendezvous.cc:404] Local rendezvous is aborting with status: OUT_OF_RANGE: End of sequence\n",
      "\t [[{{node IteratorGetNext}}]]\n",
      "2024-05-03 15:36:15.712012: W tensorflow/core/framework/local_rendezvous.cc:404] Local rendezvous is aborting with status: OUT_OF_RANGE: End of sequence\n",
      "\t [[{{node IteratorGetNext}}]]\n"
     ]
    },
    {
     "name": "stdout",
     "output_type": "stream",
     "text": [
      "\u001b[1m398/398\u001b[0m \u001b[32m━━━━━━━━━━━━━━━━━━━━\u001b[0m\u001b[37m\u001b[0m \u001b[1m1s\u001b[0m 2ms/step - accuracy: 0.7871 - auc: 0.8608 - loss: 0.4603 - precision: 0.7470 - recall: 0.7568 - val_accuracy: 0.8462 - val_auc: 0.9293 - val_loss: 0.3819 - val_precision: 0.7745 - val_recall: 0.8778\n",
      "Epoch 16/20\n"
     ]
    },
    {
     "name": "stderr",
     "output_type": "stream",
     "text": [
      "2024-05-03 15:36:16.961862: W tensorflow/core/framework/local_rendezvous.cc:404] Local rendezvous is aborting with status: OUT_OF_RANGE: End of sequence\n",
      "\t [[{{node IteratorGetNext}}]]\n",
      "2024-05-03 15:36:17.078157: W tensorflow/core/framework/local_rendezvous.cc:404] Local rendezvous is aborting with status: OUT_OF_RANGE: End of sequence\n",
      "\t [[{{node IteratorGetNext}}]]\n"
     ]
    },
    {
     "name": "stdout",
     "output_type": "stream",
     "text": [
      "\u001b[1m398/398\u001b[0m \u001b[32m━━━━━━━━━━━━━━━━━━━━\u001b[0m\u001b[37m\u001b[0m \u001b[1m1s\u001b[0m 2ms/step - accuracy: 0.7759 - auc: 0.8609 - loss: 0.4597 - precision: 0.7257 - recall: 0.7587 - val_accuracy: 0.8778 - val_auc: 0.9331 - val_loss: 0.3519 - val_precision: 0.8316 - val_recall: 0.8778\n",
      "Epoch 17/20\n"
     ]
    },
    {
     "name": "stderr",
     "output_type": "stream",
     "text": [
      "2024-05-03 15:36:17.849564: W tensorflow/core/framework/local_rendezvous.cc:404] Local rendezvous is aborting with status: OUT_OF_RANGE: End of sequence\n",
      "\t [[{{node IteratorGetNext}}]]\n",
      "2024-05-03 15:36:17.962833: W tensorflow/core/framework/local_rendezvous.cc:404] Local rendezvous is aborting with status: OUT_OF_RANGE: End of sequence\n",
      "\t [[{{node IteratorGetNext}}]]\n"
     ]
    },
    {
     "name": "stdout",
     "output_type": "stream",
     "text": [
      "\u001b[1m398/398\u001b[0m \u001b[32m━━━━━━━━━━━━━━━━━━━━\u001b[0m\u001b[37m\u001b[0m \u001b[1m1s\u001b[0m 2ms/step - accuracy: 0.7879 - auc: 0.8543 - loss: 0.4756 - precision: 0.7869 - recall: 0.7416 - val_accuracy: 0.8733 - val_auc: 0.9322 - val_loss: 0.3590 - val_precision: 0.8229 - val_recall: 0.8778\n",
      "Epoch 18/20\n"
     ]
    },
    {
     "name": "stderr",
     "output_type": "stream",
     "text": [
      "2024-05-03 15:36:19.194470: W tensorflow/core/framework/local_rendezvous.cc:404] Local rendezvous is aborting with status: OUT_OF_RANGE: End of sequence\n",
      "\t [[{{node IteratorGetNext}}]]\n",
      "2024-05-03 15:36:19.318670: W tensorflow/core/framework/local_rendezvous.cc:404] Local rendezvous is aborting with status: OUT_OF_RANGE: End of sequence\n",
      "\t [[{{node IteratorGetNext}}]]\n"
     ]
    },
    {
     "name": "stdout",
     "output_type": "stream",
     "text": [
      "\u001b[1m398/398\u001b[0m \u001b[32m━━━━━━━━━━━━━━━━━━━━\u001b[0m\u001b[37m\u001b[0m \u001b[1m1s\u001b[0m 2ms/step - accuracy: 0.7909 - auc: 0.8652 - loss: 0.4541 - precision: 0.7670 - recall: 0.7403 - val_accuracy: 0.8688 - val_auc: 0.9325 - val_loss: 0.3735 - val_precision: 0.8144 - val_recall: 0.8778\n",
      "Epoch 19/20\n"
     ]
    },
    {
     "name": "stderr",
     "output_type": "stream",
     "text": [
      "2024-05-03 15:36:20.340164: W tensorflow/core/framework/local_rendezvous.cc:404] Local rendezvous is aborting with status: OUT_OF_RANGE: End of sequence\n",
      "\t [[{{node IteratorGetNext}}]]\n",
      "2024-05-03 15:36:20.455190: W tensorflow/core/framework/local_rendezvous.cc:404] Local rendezvous is aborting with status: OUT_OF_RANGE: End of sequence\n",
      "\t [[{{node IteratorGetNext}}]]\n"
     ]
    },
    {
     "name": "stdout",
     "output_type": "stream",
     "text": [
      "\u001b[1m398/398\u001b[0m \u001b[32m━━━━━━━━━━━━━━━━━━━━\u001b[0m\u001b[37m\u001b[0m \u001b[1m1s\u001b[0m 2ms/step - accuracy: 0.7860 - auc: 0.8650 - loss: 0.4524 - precision: 0.7654 - recall: 0.7332 - val_accuracy: 0.8733 - val_auc: 0.9321 - val_loss: 0.3566 - val_precision: 0.8229 - val_recall: 0.8778\n",
      "Epoch 20/20\n"
     ]
    },
    {
     "name": "stderr",
     "output_type": "stream",
     "text": [
      "2024-05-03 15:36:21.554776: W tensorflow/core/framework/local_rendezvous.cc:404] Local rendezvous is aborting with status: OUT_OF_RANGE: End of sequence\n",
      "\t [[{{node IteratorGetNext}}]]\n",
      "2024-05-03 15:36:21.650230: W tensorflow/core/framework/local_rendezvous.cc:404] Local rendezvous is aborting with status: OUT_OF_RANGE: End of sequence\n",
      "\t [[{{node IteratorGetNext}}]]\n"
     ]
    },
    {
     "name": "stdout",
     "output_type": "stream",
     "text": [
      "\u001b[1m398/398\u001b[0m \u001b[32m━━━━━━━━━━━━━━━━━━━━\u001b[0m\u001b[37m\u001b[0m \u001b[1m1s\u001b[0m 2ms/step - accuracy: 0.7822 - auc: 0.8420 - loss: 0.4856 - precision: 0.7627 - recall: 0.7279 - val_accuracy: 0.8597 - val_auc: 0.9328 - val_loss: 0.3545 - val_precision: 0.7980 - val_recall: 0.8778\n"
     ]
    },
    {
     "name": "stderr",
     "output_type": "stream",
     "text": [
      "2024-05-03 15:36:22.903813: W tensorflow/core/framework/local_rendezvous.cc:404] Local rendezvous is aborting with status: OUT_OF_RANGE: End of sequence\n",
      "\t [[{{node IteratorGetNext}}]]\n",
      "2024-05-03 15:36:23.020206: W tensorflow/core/framework/local_rendezvous.cc:404] Local rendezvous is aborting with status: OUT_OF_RANGE: End of sequence\n",
      "\t [[{{node IteratorGetNext}}]]\n"
     ]
    },
    {
     "data": {
      "text/plain": [
       "<keras.src.callbacks.history.History at 0x7fe67bf8c9d0>"
      ]
     },
     "execution_count": 14,
     "metadata": {},
     "output_type": "execute_result"
    }
   ],
   "source": [
    "model2.fit(pistachio_train_batches, epochs=20, validation_data=validation_data)\n"
   ]
  },
  {
   "cell_type": "code",
   "execution_count": 17,
   "id": "dd47e368-7596-4cbd-a224-9aeb9879c0be",
   "metadata": {},
   "outputs": [
    {
     "name": "stdout",
     "output_type": "stream",
     "text": [
      "85/85 - 0s - 2ms/step - accuracy: 0.8698 - auc: 0.9361 - loss: 0.3439 - precision: 0.8252 - recall: 0.8613\n"
     ]
    },
    {
     "name": "stderr",
     "output_type": "stream",
     "text": [
      "2024-05-03 15:37:06.076313: W tensorflow/core/framework/local_rendezvous.cc:404] Local rendezvous is aborting with status: OUT_OF_RANGE: End of sequence\n",
      "\t [[{{node IteratorGetNext}}]]\n"
     ]
    },
    {
     "data": {
      "text/plain": [
       "[0.343885213136673,\n",
       " 0.8698225021362305,\n",
       " 0.9361041188240051,\n",
       " 0.8251748085021973,\n",
       " 0.8613138794898987]"
      ]
     },
     "execution_count": 17,
     "metadata": {},
     "output_type": "execute_result"
    }
   ],
   "source": [
    "model2.evaluate(pistachio_test_data,verbose=2)\n"
   ]
  },
  {
   "cell_type": "code",
   "execution_count": 18,
   "id": "84046f88-2c10-4a9d-ad6a-da772e906c59",
   "metadata": {},
   "outputs": [
    {
     "name": "stdout",
     "output_type": "stream",
     "text": [
      "predicted prob: [0.6096879], label: [1]\n",
      "predicted prob: [0.13835986], label: [0]\n",
      "predicted prob: [0.06268708], label: [0]\n",
      "predicted prob: [0.10202026], label: [0]\n"
     ]
    },
    {
     "name": "stderr",
     "output_type": "stream",
     "text": [
      "2024-05-03 15:37:17.202003: W tensorflow/core/framework/local_rendezvous.cc:404] Local rendezvous is aborting with status: OUT_OF_RANGE: End of sequence\n"
     ]
    }
   ],
   "source": [
    "for features, labels in pistachio_test_data.take(1):\n",
    "    predictions = model2(features)\n",
    "    for p,l in zip(predictions, labels):\n",
    "        print(f'predicted prob: {p}, label: {l}')"
   ]
  },
  {
   "cell_type": "markdown",
   "id": "6630f2c6-e791-422d-bc5f-b6eb964590c7",
   "metadata": {},
   "source": [
    "## custom training loop stuff"
   ]
  },
  {
   "cell_type": "code",
   "execution_count": 22,
   "id": "c11d10d9-f58b-4b21-b654-8a12e8be037a",
   "metadata": {},
   "outputs": [],
   "source": [
    "model3 = tf.keras.models.Sequential([\n",
    "  tf.keras.layers.BatchNormalization(), \n",
    "  tf.keras.layers.Dense(16, activation='relu'),\n",
    "  tf.keras.layers.Dropout(0.2),\n",
    "  tf.keras.layers.Dense(16),\n",
    "  tf.keras.layers.Dense(1, activation='sigmoid')\n",
    "])\n",
    "\n"
   ]
  },
  {
   "cell_type": "code",
   "execution_count": 24,
   "id": "c40b55d5-f055-4458-9db4-a99297a5b1dc",
   "metadata": {},
   "outputs": [
    {
     "name": "stdout",
     "output_type": "stream",
     "text": [
      "epoch 0, batch 0, training loss 14381.3994140625\n",
      "epoch 0, batch 20, training loss 7997.92041015625\n",
      "epoch 0, batch 40, training loss 2292.798828125\n",
      "epoch 0, batch 60, training loss 8035.916015625\n",
      "epoch 0, batch 80, training loss 3904.803466796875\n",
      "epoch 0, batch 100, training loss 1452.4813232421875\n",
      "epoch 0, batch 120, training loss 329.4244689941406\n",
      "epoch 0, batch 140, training loss 330.1300048828125\n",
      "epoch 0, batch 160, training loss 211.73709106445312\n",
      "epoch 0, batch 180, training loss 247.14169311523438\n",
      "epoch 0, batch 200, training loss 197.73309326171875\n",
      "epoch 0, batch 220, training loss 0.0\n",
      "epoch 0, batch 240, training loss 660.2647705078125\n",
      "epoch 0, batch 260, training loss 364.07586669921875\n",
      "epoch 0, batch 280, training loss 620.1875\n",
      "epoch 0, batch 300, training loss 410.9370422363281\n",
      "epoch 0, batch 320, training loss 89.31468963623047\n",
      "epoch 0, batch 340, training loss 57.08540344238281\n",
      "epoch 0, batch 360, training loss 287.11541748046875\n",
      "epoch 0, batch 380, training loss 201.55319213867188\n"
     ]
    },
    {
     "name": "stderr",
     "output_type": "stream",
     "text": [
      "2024-05-03 15:58:08.700327: W tensorflow/core/framework/local_rendezvous.cc:404] Local rendezvous is aborting with status: OUT_OF_RANGE: End of sequence\n"
     ]
    },
    {
     "name": "stdout",
     "output_type": "stream",
     "text": [
      "epoch 1, batch 0, training loss 1578.214599609375\n",
      "epoch 1, batch 20, training loss 245.0712890625\n",
      "epoch 1, batch 40, training loss 169.11178588867188\n",
      "epoch 1, batch 60, training loss 251.33184814453125\n",
      "epoch 1, batch 80, training loss 859.609375\n",
      "epoch 1, batch 100, training loss 320.0411071777344\n",
      "epoch 1, batch 120, training loss 17.254487991333008\n",
      "epoch 1, batch 140, training loss 163.32241821289062\n",
      "epoch 1, batch 160, training loss 204.7286376953125\n",
      "epoch 1, batch 180, training loss 88.8787841796875\n",
      "epoch 1, batch 200, training loss 97.44146728515625\n",
      "epoch 1, batch 220, training loss 938.4825439453125\n",
      "epoch 1, batch 240, training loss 587.4556274414062\n",
      "epoch 1, batch 260, training loss 194.38888549804688\n",
      "epoch 1, batch 280, training loss 303.0118103027344\n",
      "epoch 1, batch 300, training loss 501.0601806640625\n",
      "epoch 1, batch 320, training loss 123.9653549194336\n",
      "epoch 1, batch 340, training loss 86.04116821289062\n",
      "epoch 1, batch 360, training loss 629.866455078125\n",
      "epoch 1, batch 380, training loss 222.28944396972656\n"
     ]
    },
    {
     "name": "stderr",
     "output_type": "stream",
     "text": [
      "2024-05-03 15:58:29.213636: W tensorflow/core/framework/local_rendezvous.cc:404] Local rendezvous is aborting with status: OUT_OF_RANGE: End of sequence\n"
     ]
    }
   ],
   "source": [
    "train_loss = []\n",
    "valid_loss = []\n",
    "\n",
    "optimizer=tf.keras.optimizers.Adam(learning_rate=1e-4)\n",
    "loss=tf.keras.losses.BinaryCrossentropy(from_logits=False)\n",
    "\n",
    "epochs = 2\n",
    "steps_per_output=20\n",
    "for epoch in range(epochs):\n",
    "\n",
    "    for batch_no, (train_x, train_y) in enumerate(pistachio_train_batches):\n",
    "        with tf.GradientTape() as tape:\n",
    "            output = model3(train_x)\n",
    "            the_loss = loss(train_y, output)\n",
    "        train_loss.append(the_loss)\n",
    "            \n",
    "\n",
    "        grads = tape.gradient(the_loss, model3.trainable_weights)\n",
    "        optimizer.apply_gradients(zip(grads, model3.trainable_weights))\n",
    "\n",
    "        if batch_no % steps_per_output == 0:\n",
    "            print(f'epoch {epoch}, batch {batch_no}, training loss {the_loss}')\n",
    "            \n",
    "        \n",
    "\n"
   ]
  },
  {
   "cell_type": "code",
   "execution_count": null,
   "id": "0dbf0981-5859-433a-a837-169a41ddbde0",
   "metadata": {},
   "outputs": [],
   "source": [
    "https://www.tensorflow.org/guide/keras/writing_a_training_loop_from_scratch"
   ]
  },
  {
   "cell_type": "code",
   "execution_count": null,
   "id": "837ece09-1097-4802-a799-ac58f4b42f71",
   "metadata": {},
   "outputs": [],
   "source": [
    "@tf.function\n",
    "def train_step(images, labels):\n",
    "  with tf.GradientTape() as tape:\n",
    "    # training=True is only needed if there are layers with different\n",
    "    # behavior during training versus inference (e.g. Dropout).\n",
    "    predictions = model(images, training=True)\n",
    "    loss = loss_object(labels, predictions)\n",
    "  gradients = tape.gradient(loss, model.trainable_variables)\n",
    "  optimizer.apply_gradients(zip(gradients, model.trainable_variables))\n",
    "\n",
    "  train_loss(loss)\n",
    "  train_accuracy(labels, predictions)"
   ]
  },
  {
   "cell_type": "code",
   "execution_count": null,
   "id": "142a43b7-7b52-4502-b0e9-5e6415cb1b84",
   "metadata": {},
   "outputs": [],
   "source": [
    "@tf.function\n",
    "def test_step(images, labels):\n",
    "  # training=False is only needed if there are layers with different\n",
    "  # behavior during training versus inference (e.g. Dropout).\n",
    "  predictions = model(images, training=False)\n",
    "  t_loss = loss_object(labels, predictions)\n",
    "\n",
    "  test_loss(t_loss)\n",
    "  test_accuracy(labels, predictions)"
   ]
  },
  {
   "cell_type": "code",
   "execution_count": null,
   "id": "5c8b049d-3213-460c-ac02-d02a01454360",
   "metadata": {},
   "outputs": [],
   "source": [
    "\n",
    "for epoch in range(EPOCHS):\n",
    "  # Reset the metrics at the start of the next epoch\n",
    "  train_loss.reset_state()\n",
    "  train_accuracy.reset_state()\n",
    "  test_loss.reset_state()\n",
    "  test_accuracy.reset_state()\n",
    "\n",
    "  for images, labels in train_ds:\n",
    "    train_step(images, labels)\n",
    "\n",
    "  for test_images, test_labels in test_ds:\n",
    "    test_step(test_images, test_labels)\n",
    "\n",
    "  print(\n",
    "    f'Epoch {epoch + 1}, '\n",
    "    f'Loss: {train_loss.result():0.2f}, '\n",
    "    f'Accuracy: {train_accuracy.result() * 100:0.2f}, '\n",
    "    f'Test Loss: {test_loss.result():0.2f}, '\n",
    "    f'Test Accuracy: {test_accuracy.result() * 100:0.2f}'\n",
    "  )"
   ]
  }
 ],
 "metadata": {
  "kernelspec": {
   "display_name": "Python 3 (ipykernel)",
   "language": "python",
   "name": "python3"
  },
  "language_info": {
   "codemirror_mode": {
    "name": "ipython",
    "version": 3
   },
   "file_extension": ".py",
   "mimetype": "text/x-python",
   "name": "python",
   "nbconvert_exporter": "python",
   "pygments_lexer": "ipython3",
   "version": "3.11.0rc1"
  }
 },
 "nbformat": 4,
 "nbformat_minor": 5
}
