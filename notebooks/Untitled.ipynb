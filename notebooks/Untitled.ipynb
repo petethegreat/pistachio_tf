{
 "cells": [
  {
   "cell_type": "code",
   "execution_count": null,
   "id": "58c5724f-bb44-4d77-890b-91b299802b1b",
   "metadata": {},
   "outputs": [],
   "source": [
    "test evaluation"
   ]
  },
  {
   "cell_type": "code",
   "execution_count": 1,
   "id": "1bc845c7-ef7c-4e7c-99c2-bd39b3b6cab1",
   "metadata": {},
   "outputs": [
    {
     "name": "stderr",
     "output_type": "stream",
     "text": [
      "2024-12-13 04:18:50.805863: I tensorflow/core/platform/cpu_feature_guard.cc:210] This TensorFlow binary is optimized to use available CPU instructions in performance-critical operations.\n",
      "To enable the following instructions: AVX2 FMA, in other operations, rebuild TensorFlow with the appropriate compiler flags.\n"
     ]
    },
    {
     "name": "stdout",
     "output_type": "stream",
     "text": [
      "2.16.1\n"
     ]
    }
   ],
   "source": [
    "import tensorflow as tf\n",
    "print(tf.__version__)"
   ]
  },
  {
   "cell_type": "code",
   "execution_count": 11,
   "id": "fad9497f-6b4a-4d36-b724-1576caeb1950",
   "metadata": {},
   "outputs": [],
   "source": [
    "MLFLOW_URI = uri=\"http://pistachio_mlflow:5000\"\n",
    "MLFLOW_EXPERIMENT = \"pistachio_tf_tuning_fc\"\n",
    "MLFLOW_RUN_DESCRIPTION = 'initial tuning of dense model with feature crosses wide linkage at final layer'\n",
    "MLFLOW_TAGS = {'architecture': f'feature crosses with wide linkage'}\n",
    "import mlflow\n",
    "\n"
   ]
  },
  {
   "cell_type": "code",
   "execution_count": 7,
   "id": "7f241bd3-cba5-4cf1-92f6-09076d830084",
   "metadata": {},
   "outputs": [],
   "source": [
    "# from pistachio.data import read_or_generate_splits\n",
    "# # define where train/test csvs will live\n",
    "# split_data_path = f\"./data/seed_{SEED}/\"\n",
    "# if not os.path.exists(split_data_path):\n",
    "#     os.makedirs(split_data_path)\n",
    "\n",
    "# train_df, valid_df, test_df = read_or_generate_splits(split_data_path, csv_filename, seed=SEED)"
   ]
  },
  {
   "cell_type": "code",
   "execution_count": 17,
   "id": "888b2c44-d878-407b-8b62-0b1663a04685",
   "metadata": {},
   "outputs": [
    {
     "name": "stdout",
     "output_type": "stream",
     "text": [
      "crawling-moth-699\n"
     ]
    }
   ],
   "source": [
    "# get the best run\n",
    "client = mlflow.tracking.MlflowClient(tracking_uri=MLFLOW_URI)\n",
    "experiment_info = client.get_experiment_by_name(MLFLOW_EXPERIMENT)\n",
    "\n",
    "best_run = client.search_runs(\n",
    "    experiment_info.experiment_id, order_by=[\"metrics.best_epoch_val_loss ASC\"], max_results=1\n",
    ")[0]\n",
    "print(best_run.info.run_name)"
   ]
  },
  {
   "cell_type": "code",
   "execution_count": null,
   "id": "db6705ce-5c9e-4232-84ae-2d88c4cd74a9",
   "metadata": {},
   "outputs": [],
   "source": []
  }
 ],
 "metadata": {
  "kernelspec": {
   "display_name": "Python 3 (ipykernel)",
   "language": "python",
   "name": "python3"
  },
  "language_info": {
   "codemirror_mode": {
    "name": "ipython",
    "version": 3
   },
   "file_extension": ".py",
   "mimetype": "text/x-python",
   "name": "python",
   "nbconvert_exporter": "python",
   "pygments_lexer": "ipython3",
   "version": "3.11.0rc1"
  }
 },
 "nbformat": 4,
 "nbformat_minor": 5
}
