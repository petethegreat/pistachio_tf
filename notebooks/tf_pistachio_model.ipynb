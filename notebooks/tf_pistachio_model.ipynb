{
 "cells": [
  {
   "cell_type": "markdown",
   "id": "e67e146c-7741-4e5d-b3e5-152d1fcce01c",
   "metadata": {},
   "source": [
    "# tensorflow pistachio\n"
   ]
  },
  {
   "cell_type": "code",
   "execution_count": 1,
   "id": "9645c12f-836e-43ef-a516-dd6134687a21",
   "metadata": {},
   "outputs": [
    {
     "name": "stderr",
     "output_type": "stream",
     "text": [
      "2024-04-30 02:03:21.324534: I tensorflow/core/platform/cpu_feature_guard.cc:210] This TensorFlow binary is optimized to use available CPU instructions in performance-critical operations.\n",
      "To enable the following instructions: AVX2 FMA, in other operations, rebuild TensorFlow with the appropriate compiler flags.\n"
     ]
    },
    {
     "name": "stdout",
     "output_type": "stream",
     "text": [
      "2.16.1\n"
     ]
    }
   ],
   "source": [
    "import tensorflow as tf\n",
    "print(tf.__version__)"
   ]
  },
  {
   "cell_type": "markdown",
   "id": "215c077c-56e8-4081-b5dc-34945bd1fa61",
   "metadata": {},
   "source": [
    "## arff to csv\n",
    "\n",
    "\n",
    "\n"
   ]
  },
  {
   "cell_type": "code",
   "execution_count": 2,
   "id": "e19e49d4-8185-4a92-b60f-7e94609fccca",
   "metadata": {},
   "outputs": [
    {
     "name": "stdout",
     "output_type": "stream",
     "text": [
      "loading arff file ./data/Pistachio_16_Features_Dataset.arff\n",
      "arff metadata: Dataset: Pistachio_16_Features_Dataset\n",
      "\tAREA's type is numeric\n",
      "\tPERIMETER's type is numeric\n",
      "\tMAJOR_AXIS's type is numeric\n",
      "\tMINOR_AXIS's type is numeric\n",
      "\tECCENTRICITY's type is numeric\n",
      "\tEQDIASQ's type is numeric\n",
      "\tSOLIDITY's type is numeric\n",
      "\tCONVEX_AREA's type is numeric\n",
      "\tEXTENT's type is numeric\n",
      "\tASPECT_RATIO's type is numeric\n",
      "\tROUNDNESS's type is numeric\n",
      "\tCOMPACTNESS's type is numeric\n",
      "\tSHAPEFACTOR_1's type is numeric\n",
      "\tSHAPEFACTOR_2's type is numeric\n",
      "\tSHAPEFACTOR_3's type is numeric\n",
      "\tSHAPEFACTOR_4's type is numeric\n",
      "\tClass's type is nominal, range is ('Kirmizi_Pistachio', 'Siit_Pistachio')\n",
      "\n",
      "wrote file to ./data/pistachio_16.csv\n"
     ]
    }
   ],
   "source": [
    "import pandas as pd \n",
    "from scipy.io import arff\n",
    "import os \n",
    "label_mapping = {'Kirmizi_Pistachio': 0, 'Siit_Pistachio': 1}\n",
    "\n",
    "def load_arff_file(input_arff: str) -> pd.DataFrame:\n",
    "    \"\"\"convert arff file to parquet\"\"\"\n",
    "    if not os.path.exists(input_arff):\n",
    "        raise ValueError(f\"input file '{input_arff}' does not exist\")\n",
    "    print(f'loading arff file {input_arff}')\n",
    "    data, meta = arff.loadarff(input_arff)\n",
    "    print(f\"arff metadata: {meta}\")\n",
    "    df = pd.DataFrame(data)\n",
    "    df['Class'] = df['Class'].astype(str).map(label_mapping)\n",
    "    \n",
    "    return df\n",
    "##################\n",
    "\n",
    "arff_filename = './data/Pistachio_16_Features_Dataset.arff'\n",
    "csv_filename = './data/pistachio_16.csv'\n",
    "if not os.path.exists(csv_filename):\n",
    "    df = load_arff_file(arff_filename)\n",
    "    df.head()\n",
    "    df.to_csv(csv_filename, index=False, header=True)\n",
    "    print(f'wrote file to {csv_filename}')\n",
    "else:\n",
    "    print(f'{csv_filename} exists')\n"
   ]
  },
  {
   "cell_type": "markdown",
   "id": "55e66103-32dc-4820-8089-71b0f3b4b789",
   "metadata": {},
   "source": [
    "## dataset\n"
   ]
  },
  {
   "cell_type": "code",
   "execution_count": 3,
   "id": "fd7845cd-40fe-4406-9874-ca68bc501561",
   "metadata": {},
   "outputs": [
    {
     "name": "stdout",
     "output_type": "stream",
     "text": [
      "wrote 443 records to ./data/pistachio_train.csv\n",
      "wrote 1705 records to ./data/pistachio_test.csv\n"
     ]
    }
   ],
   "source": [
    "import numpy as np\n",
    "def split_csv_data(infilename: str, train_filename: str, test_filename:str, test_fraction: float):\n",
    "    df = pd.read_csv(infilename, header=0)\n",
    "    columns = df.columns\n",
    "    df['split_var'] = np.random.uniform(size=len(df))\n",
    "    train_df = df.loc[df.split_var <= test_fraction][columns]\n",
    "    test_df = df.loc[df.split_var > test_fraction][columns]\n",
    "    train_df.to_csv(train_filename, index=False, header=True)\n",
    "    test_df.to_csv(test_filename, index=False, header=True)\n",
    "    print(f'wrote {len(train_df)} records to {train_filename}')\n",
    "    print(f'wrote {len(test_df)} records to {test_filename}')\n",
    "    \n",
    "train_filename = './data/pistachio_train.csv'\n",
    "test_filename = './data/pistachio_test.csv'\n",
    "\n",
    "if not (os.path.exists(train_filename) and os.path.exists(test_filename)):\n",
    "    split_csv_data(csv_filename, train_filename, test_filename, 0.2)\n",
    "else:\n",
    "    print(f'{train_filename} and {test_filename} exist')\n",
    "\n",
    "\n",
    "\n",
    "\n"
   ]
  },
  {
   "cell_type": "code",
   "execution_count": 60,
   "id": "1902bad6-0b5a-4cbf-8163-159c21a7b4ba",
   "metadata": {},
   "outputs": [],
   "source": [
    "def map_func(features, labels):\n",
    "    return tf.transpose(tf.stack([features[k] for k in features])), tf.reshape(labels,[-1,1])\n",
    "\n",
    "# use dataset.map to concatenate feature dictionary into tensor\n",
    "pistachio_train_batches = tf.data.experimental.make_csv_dataset(\n",
    "    train_filename, batch_size=4,\n",
    "    num_epochs=1,\n",
    "    label_name=\"Class\").map(map_func)\n",
    "pistachio_test_batches = tf.data.experimental.make_csv_dataset(\n",
    "    test_filename, batch_size=4,\n",
    "    num_epochs=1,\n",
    "    label_name=\"Class\").map(map_func)"
   ]
  },
  {
   "cell_type": "code",
   "execution_count": 57,
   "id": "f6a8ac90-eceb-44cb-a73f-8d55a76c66be",
   "metadata": {},
   "outputs": [
    {
     "name": "stdout",
     "output_type": "stream",
     "text": [
      "'label': [[1]\n",
      " [1]\n",
      " [0]\n",
      " [0]]\n",
      "features batch shape: (4, 16)\n",
      "'label': [[1]\n",
      " [0]\n",
      " [0]\n",
      " [0]]\n",
      "features batch shape: (4, 16)\n"
     ]
    },
    {
     "name": "stderr",
     "output_type": "stream",
     "text": [
      "2024-04-30 02:46:08.477719: W tensorflow/core/framework/local_rendezvous.cc:404] Local rendezvous is aborting with status: OUT_OF_RANGE: End of sequence\n"
     ]
    }
   ],
   "source": [
    "batch = 0\n",
    "for feature_batch, label_batch in pistachio_train_batches.take(2):\n",
    "    # print(f'{batch}, {label_batch.shape}')\n",
    "    # cat_batch = tf.stack([feature_batch['AREA'],feature_batch['PERIMETER']],axis=1)\n",
    "    # cat_batch = tf.stack([feature_batch[k] for k in feature_batch],axis=1)\n",
    "\n",
    "    # batch += 1\n",
    "    \n",
    "    print(\"'label': {}\".format(label_batch))\n",
    "    # print(cat_batch)\n",
    "    print(f\"features batch shape: {feature_batch.shape}\")\n",
    "    # print(feature_batch.shape)\n",
    "    "
   ]
  },
  {
   "cell_type": "markdown",
   "id": "48becd0f-e403-4e38-8de1-0cf00d1dea89",
   "metadata": {},
   "source": [
    "## Model"
   ]
  },
  {
   "cell_type": "code",
   "execution_count": 47,
   "id": "bd86bdb2-b2a3-47ae-b4af-24a4ce24404f",
   "metadata": {},
   "outputs": [],
   "source": [
    "from tensorflow.keras.layers import Dense, Flatten, Conv2D, BatchNormalization\n",
    "from tensorflow.keras import Model\n",
    "\n",
    "class PistachioModel(Model):\n",
    "    def __init__(self, units: int=10):\n",
    "        super().__init__()\n",
    "        self._units = units\n",
    "    \n",
    "\n",
    "    def build(self, input_shape):\n",
    "        self.bn = BatchNormalization(axis=0, input_shape=input_shape)\n",
    "        self.d1 = Dense(self._units, activation='relu', input_shape=input_shape)\n",
    "        self.d2 = Dense(self._units)\n",
    "        self.lout = Dense(1, activation='sigmoid')\n",
    "        \n",
    "\n",
    "\n",
    "    def call(self, x):\n",
    "        x = self.bn(x)\n",
    "        x = self.d1(x)\n",
    "        x = self.d2(x)\n",
    "        return self.lout(x)\n",
    "\n",
    "# Create an instance of the model\n",
    "model = PistachioModel()"
   ]
  },
  {
   "cell_type": "markdown",
   "id": "aaea6012-3ffa-4ca8-b617-9d0999e588a4",
   "metadata": {},
   "source": [
    "## Keras model.fit api"
   ]
  },
  {
   "cell_type": "code",
   "execution_count": 48,
   "id": "afb24047-86ea-4f70-939c-769ca8089d4e",
   "metadata": {},
   "outputs": [],
   "source": [
    "model.compile(optimizer='adam',\n",
    "              loss=tf.keras.losses.BinaryCrossentropy(from_logits=False),\n",
    "              metrics=['accuracy', 'auc'])\n",
    "\n",
    "\n",
    "\n",
    "\n",
    "\n"
   ]
  },
  {
   "cell_type": "code",
   "execution_count": 49,
   "id": "80e71dc3-4e8f-4895-946b-04af6afcea8e",
   "metadata": {},
   "outputs": [
    {
     "name": "stdout",
     "output_type": "stream",
     "text": [
      "Epoch 1/10\n"
     ]
    },
    {
     "ename": "ValueError",
     "evalue": "Exception encountered when calling PistachioModel.call().\n\n\u001b[1mShapes used to initialize variables must be fully-defined (no `None` dimensions). Received: shape=(None,) for variable path='pistachio_model_10/batch_normalization_9/gamma'\u001b[0m\n\nArguments received by PistachioModel.call():\n  • x=tf.Tensor(shape=(None, 16), dtype=float32)",
     "output_type": "error",
     "traceback": [
      "\u001b[0;31m---------------------------------------------------------------------------\u001b[0m",
      "\u001b[0;31mValueError\u001b[0m                                Traceback (most recent call last)",
      "Cell \u001b[0;32mIn[49], line 1\u001b[0m\n\u001b[0;32m----> 1\u001b[0m \u001b[43mmodel\u001b[49m\u001b[38;5;241;43m.\u001b[39;49m\u001b[43mfit\u001b[49m\u001b[43m(\u001b[49m\u001b[43mpistachio_train_batches\u001b[49m\u001b[43m,\u001b[49m\u001b[43m \u001b[49m\u001b[43mepochs\u001b[49m\u001b[38;5;241;43m=\u001b[39;49m\u001b[38;5;241;43m10\u001b[39;49m\u001b[43m)\u001b[49m\n",
      "File \u001b[0;32m/usr/local/lib/python3.11/dist-packages/keras/src/utils/traceback_utils.py:123\u001b[0m, in \u001b[0;36mfilter_traceback.<locals>.error_handler\u001b[0;34m(*args, **kwargs)\u001b[0m\n\u001b[1;32m    120\u001b[0m     filtered_tb \u001b[38;5;241m=\u001b[39m _process_traceback_frames(e\u001b[38;5;241m.\u001b[39m__traceback__)\n\u001b[1;32m    121\u001b[0m     \u001b[38;5;66;03m# To get the full stack trace, call:\u001b[39;00m\n\u001b[1;32m    122\u001b[0m     \u001b[38;5;66;03m# `keras.config.disable_traceback_filtering()`\u001b[39;00m\n\u001b[0;32m--> 123\u001b[0m     \u001b[38;5;28;01mraise\u001b[39;00m e\u001b[38;5;241m.\u001b[39mwith_traceback(filtered_tb) \u001b[38;5;28;01mfrom\u001b[39;00m \u001b[38;5;28;01mNone\u001b[39;00m\n\u001b[1;32m    124\u001b[0m \u001b[38;5;28;01mfinally\u001b[39;00m:\n\u001b[1;32m    125\u001b[0m     \u001b[38;5;28;01mdel\u001b[39;00m filtered_tb\n",
      "Cell \u001b[0;32mIn[47], line 19\u001b[0m, in \u001b[0;36mPistachioModel.call\u001b[0;34m(self, x)\u001b[0m\n\u001b[1;32m     18\u001b[0m \u001b[38;5;28;01mdef\u001b[39;00m \u001b[38;5;21mcall\u001b[39m(\u001b[38;5;28mself\u001b[39m, x):\n\u001b[0;32m---> 19\u001b[0m     x \u001b[38;5;241m=\u001b[39m \u001b[38;5;28;43mself\u001b[39;49m\u001b[38;5;241;43m.\u001b[39;49m\u001b[43mbn\u001b[49m\u001b[43m(\u001b[49m\u001b[43mx\u001b[49m\u001b[43m)\u001b[49m\n\u001b[1;32m     20\u001b[0m     x \u001b[38;5;241m=\u001b[39m \u001b[38;5;28mself\u001b[39m\u001b[38;5;241m.\u001b[39md1(x)\n\u001b[1;32m     21\u001b[0m     x \u001b[38;5;241m=\u001b[39m \u001b[38;5;28mself\u001b[39m\u001b[38;5;241m.\u001b[39md2(x)\n",
      "\u001b[0;31mValueError\u001b[0m: Exception encountered when calling PistachioModel.call().\n\n\u001b[1mShapes used to initialize variables must be fully-defined (no `None` dimensions). Received: shape=(None,) for variable path='pistachio_model_10/batch_normalization_9/gamma'\u001b[0m\n\nArguments received by PistachioModel.call():\n  • x=tf.Tensor(shape=(None, 16), dtype=float32)"
     ]
    }
   ],
   "source": [
    "model.fit(pistachio_train_batches, epochs=10)"
   ]
  },
  {
   "cell_type": "markdown",
   "id": "6196f01d-4e1d-4014-9041-a8228d2117e3",
   "metadata": {},
   "source": [
    "## sequential model"
   ]
  },
  {
   "cell_type": "code",
   "execution_count": 66,
   "id": "ffdfcd8e-0ee0-4882-a93c-3cef10012d70",
   "metadata": {},
   "outputs": [],
   "source": [
    "model2 = tf.keras.models.Sequential([\n",
    "  tf.keras.layers.BatchNormalization(), \n",
    "  tf.keras.layers.Dense(16, activation='relu'),\n",
    "  tf.keras.layers.Dropout(0.2),\n",
    "  tf.keras.layers.Dense(16),\n",
    "  tf.keras.layers.Dense(1, activation='sigmoid')\n",
    "])\n",
    "model2.compile(optimizer='adam',\n",
    "              loss=tf.keras.losses.BinaryCrossentropy(from_logits=False),\n",
    "              metrics=['accuracy', 'auc'])"
   ]
  },
  {
   "cell_type": "code",
   "execution_count": 68,
   "id": "32a9cc68-ae2c-4564-af0a-16be2692cbe4",
   "metadata": {},
   "outputs": [
    {
     "name": "stdout",
     "output_type": "stream",
     "text": [
      "Epoch 1/10\n",
      "\u001b[1m111/111\u001b[0m \u001b[32m━━━━━━━━━━━━━━━━━━━━\u001b[0m\u001b[37m\u001b[0m \u001b[1m0s\u001b[0m 935us/step - accuracy: 0.7284 - auc: 0.8170 - loss: 0.5204\n",
      "Epoch 2/10\n",
      "\u001b[1m111/111\u001b[0m \u001b[32m━━━━━━━━━━━━━━━━━━━━\u001b[0m\u001b[37m\u001b[0m \u001b[1m0s\u001b[0m 880us/step - accuracy: 0.7720 - auc: 0.8719 - loss: 0.4395\n",
      "Epoch 3/10\n",
      "\u001b[1m  1/111\u001b[0m \u001b[37m━━━━━━━━━━━━━━━━━━━━\u001b[0m \u001b[1m3s\u001b[0m 30ms/step - accuracy: 0.7500 - auc: 1.0000 - loss: 0.2692"
     ]
    },
    {
     "name": "stderr",
     "output_type": "stream",
     "text": [
      "2024-04-30 02:52:53.956163: W tensorflow/core/framework/local_rendezvous.cc:404] Local rendezvous is aborting with status: OUT_OF_RANGE: End of sequence\n",
      "\t [[{{node IteratorGetNext}}]]\n",
      "2024-04-30 02:52:54.084876: W tensorflow/core/framework/local_rendezvous.cc:404] Local rendezvous is aborting with status: OUT_OF_RANGE: End of sequence\n",
      "\t [[{{node IteratorGetNext}}]]\n"
     ]
    },
    {
     "name": "stdout",
     "output_type": "stream",
     "text": [
      "\u001b[1m111/111\u001b[0m \u001b[32m━━━━━━━━━━━━━━━━━━━━\u001b[0m\u001b[37m\u001b[0m \u001b[1m0s\u001b[0m 881us/step - accuracy: 0.8066 - auc: 0.8861 - loss: 0.4293\n",
      "Epoch 4/10\n",
      "\u001b[1m111/111\u001b[0m \u001b[32m━━━━━━━━━━━━━━━━━━━━\u001b[0m\u001b[37m\u001b[0m \u001b[1m0s\u001b[0m 887us/step - accuracy: 0.7972 - auc: 0.8884 - loss: 0.4236\n",
      "Epoch 5/10\n",
      "\u001b[1m  1/111\u001b[0m \u001b[37m━━━━━━━━━━━━━━━━━━━━\u001b[0m \u001b[1m3s\u001b[0m 29ms/step - accuracy: 1.0000 - auc: 1.0000 - loss: 0.2399"
     ]
    },
    {
     "name": "stderr",
     "output_type": "stream",
     "text": [
      "2024-04-30 02:52:54.215464: W tensorflow/core/framework/local_rendezvous.cc:404] Local rendezvous is aborting with status: OUT_OF_RANGE: End of sequence\n",
      "\t [[{{node IteratorGetNext}}]]\n",
      "2024-04-30 02:52:54.346195: W tensorflow/core/framework/local_rendezvous.cc:404] Local rendezvous is aborting with status: OUT_OF_RANGE: End of sequence\n",
      "\t [[{{node IteratorGetNext}}]]\n"
     ]
    },
    {
     "name": "stdout",
     "output_type": "stream",
     "text": [
      "\u001b[1m111/111\u001b[0m \u001b[32m━━━━━━━━━━━━━━━━━━━━\u001b[0m\u001b[37m\u001b[0m \u001b[1m0s\u001b[0m 1ms/step - accuracy: 0.8084 - auc: 0.8767 - loss: 0.4463  \n",
      "Epoch 6/10\n",
      "\u001b[1m111/111\u001b[0m \u001b[32m━━━━━━━━━━━━━━━━━━━━\u001b[0m\u001b[37m\u001b[0m \u001b[1m0s\u001b[0m 904us/step - accuracy: 0.7599 - auc: 0.8354 - loss: 0.5226 \n",
      "Epoch 7/10\n",
      "\u001b[1m  1/111\u001b[0m \u001b[37m━━━━━━━━━━━━━━━━━━━━\u001b[0m \u001b[1m4s\u001b[0m 39ms/step - accuracy: 0.7500 - auc: 0.6667 - loss: 0.5059"
     ]
    },
    {
     "name": "stderr",
     "output_type": "stream",
     "text": [
      "2024-04-30 02:52:54.488375: W tensorflow/core/framework/local_rendezvous.cc:404] Local rendezvous is aborting with status: OUT_OF_RANGE: End of sequence\n",
      "\t [[{{node IteratorGetNext}}]]\n",
      "2024-04-30 02:52:54.622119: W tensorflow/core/framework/local_rendezvous.cc:404] Local rendezvous is aborting with status: OUT_OF_RANGE: End of sequence\n",
      "\t [[{{node IteratorGetNext}}]]\n"
     ]
    },
    {
     "name": "stdout",
     "output_type": "stream",
     "text": [
      "\u001b[1m111/111\u001b[0m \u001b[32m━━━━━━━━━━━━━━━━━━━━\u001b[0m\u001b[37m\u001b[0m \u001b[1m0s\u001b[0m 878us/step - accuracy: 0.7879 - auc: 0.8461 - loss: 0.4867\n",
      "Epoch 8/10\n",
      "\u001b[1m111/111\u001b[0m \u001b[32m━━━━━━━━━━━━━━━━━━━━\u001b[0m\u001b[37m\u001b[0m \u001b[1m0s\u001b[0m 894us/step - accuracy: 0.8098 - auc: 0.8833 - loss: 0.4322\n",
      "Epoch 9/10\n",
      "\u001b[1m  1/111\u001b[0m \u001b[37m━━━━━━━━━━━━━━━━━━━━\u001b[0m \u001b[1m3s\u001b[0m 28ms/step - accuracy: 1.0000 - auc: 1.0000 - loss: 0.2679"
     ]
    },
    {
     "name": "stderr",
     "output_type": "stream",
     "text": [
      "2024-04-30 02:52:54.760318: W tensorflow/core/framework/local_rendezvous.cc:404] Local rendezvous is aborting with status: OUT_OF_RANGE: End of sequence\n",
      "\t [[{{node IteratorGetNext}}]]\n",
      "2024-04-30 02:52:54.891889: W tensorflow/core/framework/local_rendezvous.cc:404] Local rendezvous is aborting with status: OUT_OF_RANGE: End of sequence\n",
      "\t [[{{node IteratorGetNext}}]]\n"
     ]
    },
    {
     "name": "stdout",
     "output_type": "stream",
     "text": [
      "\u001b[1m111/111\u001b[0m \u001b[32m━━━━━━━━━━━━━━━━━━━━\u001b[0m\u001b[37m\u001b[0m \u001b[1m0s\u001b[0m 917us/step - accuracy: 0.7919 - auc: 0.8692 - loss: 0.4556\n",
      "Epoch 10/10\n",
      "\u001b[1m111/111\u001b[0m \u001b[32m━━━━━━━━━━━━━━━━━━━━\u001b[0m\u001b[37m\u001b[0m \u001b[1m0s\u001b[0m 932us/step - accuracy: 0.7603 - auc: 0.8445 - loss: 0.4759 \n"
     ]
    },
    {
     "name": "stderr",
     "output_type": "stream",
     "text": [
      "2024-04-30 02:52:55.023937: W tensorflow/core/framework/local_rendezvous.cc:404] Local rendezvous is aborting with status: OUT_OF_RANGE: End of sequence\n",
      "\t [[{{node IteratorGetNext}}]]\n",
      "2024-04-30 02:52:55.158823: W tensorflow/core/framework/local_rendezvous.cc:404] Local rendezvous is aborting with status: OUT_OF_RANGE: End of sequence\n",
      "\t [[{{node IteratorGetNext}}]]\n"
     ]
    },
    {
     "data": {
      "text/plain": [
       "<keras.src.callbacks.history.History at 0x7f8e2ac1f350>"
      ]
     },
     "execution_count": 68,
     "metadata": {},
     "output_type": "execute_result"
    }
   ],
   "source": [
    "model2.fit(pistachio_train_batches, epochs=10)\n"
   ]
  },
  {
   "cell_type": "code",
   "execution_count": 69,
   "id": "dd47e368-7596-4cbd-a224-9aeb9879c0be",
   "metadata": {},
   "outputs": [
    {
     "name": "stdout",
     "output_type": "stream",
     "text": [
      "427/427 - 0s - 1ms/step - accuracy: 0.8639 - auc: 0.9313 - loss: 0.3545\n"
     ]
    },
    {
     "name": "stderr",
     "output_type": "stream",
     "text": [
      "2024-04-30 02:54:06.293289: W tensorflow/core/framework/local_rendezvous.cc:404] Local rendezvous is aborting with status: OUT_OF_RANGE: End of sequence\n",
      "\t [[{{node IteratorGetNext}}]]\n"
     ]
    },
    {
     "data": {
      "text/plain": [
       "[0.35447990894317627, 0.8639296293258667, 0.9313317537307739]"
      ]
     },
     "execution_count": 69,
     "metadata": {},
     "output_type": "execute_result"
    }
   ],
   "source": [
    "model2.evaluate(pistachio_test_batches,verbose=2)\n"
   ]
  },
  {
   "cell_type": "code",
   "execution_count": 84,
   "id": "84046f88-2c10-4a9d-ad6a-da772e906c59",
   "metadata": {},
   "outputs": [
    {
     "name": "stdout",
     "output_type": "stream",
     "text": [
      "predicted prob: [0.8645645], label: [1]\n",
      "predicted prob: [0.31095818], label: [0]\n",
      "predicted prob: [0.94427866], label: [1]\n",
      "predicted prob: [0.00063194], label: [0]\n"
     ]
    },
    {
     "name": "stderr",
     "output_type": "stream",
     "text": [
      "2024-04-30 03:04:05.021128: W tensorflow/core/framework/local_rendezvous.cc:404] Local rendezvous is aborting with status: OUT_OF_RANGE: End of sequence\n"
     ]
    }
   ],
   "source": [
    "for features, labels in pistachio_test_batches.take(1):\n",
    "    predictions = model2(features)\n",
    "    for p,l in zip(predictions, labels):\n",
    "        print(f'predicted prob: {p}, label: {l}')"
   ]
  },
  {
   "cell_type": "markdown",
   "id": "6630f2c6-e791-422d-bc5f-b6eb964590c7",
   "metadata": {},
   "source": [
    "## custom training loop stuff"
   ]
  },
  {
   "cell_type": "code",
   "execution_count": null,
   "id": "837ece09-1097-4802-a799-ac58f4b42f71",
   "metadata": {},
   "outputs": [],
   "source": [
    "@tf.function\n",
    "def train_step(images, labels):\n",
    "  with tf.GradientTape() as tape:\n",
    "    # training=True is only needed if there are layers with different\n",
    "    # behavior during training versus inference (e.g. Dropout).\n",
    "    predictions = model(images, training=True)\n",
    "    loss = loss_object(labels, predictions)\n",
    "  gradients = tape.gradient(loss, model.trainable_variables)\n",
    "  optimizer.apply_gradients(zip(gradients, model.trainable_variables))\n",
    "\n",
    "  train_loss(loss)\n",
    "  train_accuracy(labels, predictions)"
   ]
  },
  {
   "cell_type": "code",
   "execution_count": null,
   "id": "142a43b7-7b52-4502-b0e9-5e6415cb1b84",
   "metadata": {},
   "outputs": [],
   "source": [
    "@tf.function\n",
    "def test_step(images, labels):\n",
    "  # training=False is only needed if there are layers with different\n",
    "  # behavior during training versus inference (e.g. Dropout).\n",
    "  predictions = model(images, training=False)\n",
    "  t_loss = loss_object(labels, predictions)\n",
    "\n",
    "  test_loss(t_loss)\n",
    "  test_accuracy(labels, predictions)"
   ]
  },
  {
   "cell_type": "code",
   "execution_count": null,
   "id": "5c8b049d-3213-460c-ac02-d02a01454360",
   "metadata": {},
   "outputs": [],
   "source": [
    "\n",
    "for epoch in range(EPOCHS):\n",
    "  # Reset the metrics at the start of the next epoch\n",
    "  train_loss.reset_state()\n",
    "  train_accuracy.reset_state()\n",
    "  test_loss.reset_state()\n",
    "  test_accuracy.reset_state()\n",
    "\n",
    "  for images, labels in train_ds:\n",
    "    train_step(images, labels)\n",
    "\n",
    "  for test_images, test_labels in test_ds:\n",
    "    test_step(test_images, test_labels)\n",
    "\n",
    "  print(\n",
    "    f'Epoch {epoch + 1}, '\n",
    "    f'Loss: {train_loss.result():0.2f}, '\n",
    "    f'Accuracy: {train_accuracy.result() * 100:0.2f}, '\n",
    "    f'Test Loss: {test_loss.result():0.2f}, '\n",
    "    f'Test Accuracy: {test_accuracy.result() * 100:0.2f}'\n",
    "  )"
   ]
  }
 ],
 "metadata": {
  "kernelspec": {
   "display_name": "Python 3 (ipykernel)",
   "language": "python",
   "name": "python3"
  },
  "language_info": {
   "codemirror_mode": {
    "name": "ipython",
    "version": 3
   },
   "file_extension": ".py",
   "mimetype": "text/x-python",
   "name": "python",
   "nbconvert_exporter": "python",
   "pygments_lexer": "ipython3",
   "version": "3.11.0rc1"
  }
 },
 "nbformat": 4,
 "nbformat_minor": 5
}
